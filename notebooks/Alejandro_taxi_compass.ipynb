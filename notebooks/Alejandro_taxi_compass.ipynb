{
 "cells": [
  {
   "cell_type": "markdown",
   "id": "63832dfd",
   "metadata": {},
   "source": [
    "# Taxi Compass\n",
    "by Alejandro Seif"
   ]
  },
  {
   "cell_type": "code",
   "execution_count": 1,
   "id": "b1898b08",
   "metadata": {
    "ExecuteTime": {
     "end_time": "2022-01-24T06:50:33.086110Z",
     "start_time": "2022-01-24T06:50:30.739616Z"
    }
   },
   "outputs": [],
   "source": [
    "import requests\n",
    "import pandas as pd\n",
    "import time\n",
    "from datetime import datetime\n",
    "import numpy as np"
   ]
  },
  {
   "cell_type": "markdown",
   "id": "cf446f2e",
   "metadata": {
    "ExecuteTime": {
     "end_time": "2021-12-16T11:18:14.133069Z",
     "start_time": "2021-12-16T11:18:14.112718Z"
    }
   },
   "source": [
    "# Data Collection"
   ]
  },
  {
   "cell_type": "markdown",
   "id": "ef28e33a",
   "metadata": {},
   "source": [
    "## LTA Taxi Availability data API"
   ]
  },
  {
   "cell_type": "markdown",
   "id": "7921a2dc",
   "metadata": {},
   "source": [
    "* Import statement"
   ]
  },
  {
   "cell_type": "markdown",
   "id": "bad65518",
   "metadata": {},
   "source": [
    "### Sequential Taxi Data API Interaction\n",
    "\n",
    "This Information updates every 50-60 seconds, so this service can be called at most 1x per minute"
   ]
  },
  {
   "cell_type": "code",
   "execution_count": null,
   "id": "b27d8ec9",
   "metadata": {
    "ExecuteTime": {
     "end_time": "2021-12-21T12:29:47.762701Z",
     "start_time": "2021-12-21T12:29:41.179473Z"
    }
   },
   "outputs": [],
   "source": [
    "gov = 'https://api.data.gov.sg/v1'\n",
    "taxi_url = '/transport/taxi-availability'\n",
    "\n",
    "url = gov + taxi_url\n",
    "response = requests.get(url).json()\n",
    "\n",
    "response"
   ]
  },
  {
   "cell_type": "code",
   "execution_count": null,
   "id": "d6e3084e",
   "metadata": {
    "ExecuteTime": {
     "end_time": "2021-12-21T12:29:47.776457Z",
     "start_time": "2021-12-21T12:29:47.767312Z"
    }
   },
   "outputs": [],
   "source": [
    "timestamp_str = response['features'][0]['properties']['timestamp']\n",
    "timestamp = datetime.strptime(timestamp_str, '%Y-%m-%dT%H:%M:%S+08:00')\n",
    "print(timestamp)"
   ]
  },
  {
   "cell_type": "code",
   "execution_count": null,
   "id": "9110b27c",
   "metadata": {
    "ExecuteTime": {
     "end_time": "2021-12-21T12:29:47.855093Z",
     "start_time": "2021-12-21T12:29:47.781786Z"
    }
   },
   "outputs": [],
   "source": [
    "taxi_coordinates = response['features'][0]['geometry']['coordinates']\n",
    "taxi_coordinates_df= pd.DataFrame.from_dict(taxi_coordinates)\n",
    "taxi_coordinates_df= taxi_coordinates_df.rename(columns = {0:'lon',1:'lat'})\n",
    "taxi_coordinates_df['timestamp']=timestamp\n",
    "taxi_coordinates_df.astype({'lat':'float32','lon':'float32'})\n",
    "taxi_coordinates_df"
   ]
  },
  {
   "cell_type": "markdown",
   "id": "b7af498f",
   "metadata": {},
   "source": [
    "Now we are going to be setting up a function to retrieve and append so that it can be called"
   ]
  },
  {
   "cell_type": "code",
   "execution_count": null,
   "id": "7350d1c4",
   "metadata": {
    "ExecuteTime": {
     "end_time": "2021-12-21T12:29:47.870774Z",
     "start_time": "2021-12-21T12:29:47.857923Z"
    }
   },
   "outputs": [],
   "source": [
    "def taxi_coordinates_append(df):\n",
    "    '''\n",
    "    Pass an existing dataframe to append more data\n",
    "    '''\n",
    "    gov = 'https://api.data.gov.sg/v1'\n",
    "    taxi_url = '/transport/taxi-availability'\n",
    "\n",
    "    url = gov + taxi_url\n",
    "    response = requests.get(url).json()\n",
    "    \n",
    "    timestamp_str = response['features'][0]['properties']['timestamp']\n",
    "    timestamp = datetime.strptime(timestamp_str, '%Y-%m-%dT%H:%M:%S+08:00')\n",
    "    \n",
    "    taxi_coordinates = response['features'][0]['geometry']['coordinates']\n",
    "    temp_taxi_coordinates_df= pd.DataFrame.from_dict(taxi_coordinates)\n",
    "    temp_taxi_coordinates_df= temp_taxi_coordinates_df.rename(columns = {0:'lon',1:'lat'})\n",
    "    temp_taxi_coordinates_df['timestamp']=timestamp\n",
    "    temp_taxi_coordinates_df.astype({'lat':'float32','lon':'float32'})\n",
    "    return pd.concat([df,temp_taxi_coordinates_df])\n",
    "    "
   ]
  },
  {
   "cell_type": "code",
   "execution_count": null,
   "id": "7ac962ff",
   "metadata": {
    "ExecuteTime": {
     "end_time": "2021-12-21T12:29:50.620053Z",
     "start_time": "2021-12-21T12:29:47.875516Z"
    }
   },
   "outputs": [],
   "source": [
    "taxi_coordinates_append(taxi_coordinates_df)"
   ]
  },
  {
   "cell_type": "markdown",
   "id": "cb007402",
   "metadata": {},
   "source": [
    "### Rainfall data API Interaction\n",
    "\n",
    "This service updates once every 5 minutes"
   ]
  },
  {
   "cell_type": "code",
   "execution_count": 70,
   "id": "764decc8",
   "metadata": {
    "ExecuteTime": {
     "end_time": "2022-01-20T13:51:02.438775Z",
     "start_time": "2022-01-20T13:51:01.853415Z"
    }
   },
   "outputs": [
    {
     "data": {
      "text/plain": [
       "{'metadata': {'stations': [{'id': 'S77',\n",
       "    'device_id': 'S77',\n",
       "    'name': 'Alexandra Road',\n",
       "    'location': {'latitude': 1.2937, 'longitude': 103.8125}},\n",
       "   {'id': 'S109',\n",
       "    'device_id': 'S109',\n",
       "    'name': 'Ang Mo Kio Avenue 5',\n",
       "    'location': {'latitude': 1.3764, 'longitude': 103.8492}},\n",
       "   {'id': 'S90',\n",
       "    'device_id': 'S90',\n",
       "    'name': 'Bukit Timah Road',\n",
       "    'location': {'latitude': 1.3191, 'longitude': 103.8191}},\n",
       "   {'id': 'S114',\n",
       "    'device_id': 'S114',\n",
       "    'name': 'Choa Chu Kang Avenue 4',\n",
       "    'location': {'latitude': 1.38, 'longitude': 103.73}},\n",
       "   {'id': 'S50',\n",
       "    'device_id': 'S50',\n",
       "    'name': 'Clementi Road',\n",
       "    'location': {'latitude': 1.3337, 'longitude': 103.7768}},\n",
       "   {'id': 'S107',\n",
       "    'device_id': 'S107',\n",
       "    'name': 'East Coast Parkway',\n",
       "    'location': {'latitude': 1.3135, 'longitude': 103.9625}},\n",
       "   {'id': 'S215',\n",
       "    'device_id': 'S215',\n",
       "    'name': 'GEYLANG EAST CENTRAL',\n",
       "    'location': {'latitude': 1.32785, 'longitude': 103.88899}},\n",
       "   {'id': 'S118',\n",
       "    'device_id': 'S118',\n",
       "    'name': 'Handy Road',\n",
       "    'location': {'latitude': 1.2994, 'longitude': 103.8461}},\n",
       "   {'id': 'S120',\n",
       "    'device_id': 'S120',\n",
       "    'name': 'Holland Road',\n",
       "    'location': {'latitude': 1.30874, 'longitude': 103.818}},\n",
       "   {'id': 'S33',\n",
       "    'device_id': 'S33',\n",
       "    'name': 'Jurong Pier Road',\n",
       "    'location': {'latitude': 1.3081, 'longitude': 103.71}},\n",
       "   {'id': 'S71',\n",
       "    'device_id': 'S71',\n",
       "    'name': 'Kent Ridge Road',\n",
       "    'location': {'latitude': 1.2923, 'longitude': 103.7815}},\n",
       "   {'id': 'S43',\n",
       "    'device_id': 'S43',\n",
       "    'name': 'Kim Chuan Road',\n",
       "    'location': {'latitude': 1.3399, 'longitude': 103.8878}},\n",
       "   {'id': 'S66',\n",
       "    'device_id': 'S66',\n",
       "    'name': 'Kranji Way',\n",
       "    'location': {'latitude': 1.4387, 'longitude': 103.7363}},\n",
       "   {'id': 'S112',\n",
       "    'device_id': 'S112',\n",
       "    'name': 'Lim Chu Kang Road',\n",
       "    'location': {'latitude': 1.43854, 'longitude': 103.70131}},\n",
       "   {'id': 'S40',\n",
       "    'device_id': 'S40',\n",
       "    'name': 'Mandai Lake Road',\n",
       "    'location': {'latitude': 1.4044, 'longitude': 103.78962}},\n",
       "   {'id': 'S108',\n",
       "    'device_id': 'S108',\n",
       "    'name': 'Marina Gardens Drive',\n",
       "    'location': {'latitude': 1.2799, 'longitude': 103.8703}},\n",
       "   {'id': 'S113',\n",
       "    'device_id': 'S113',\n",
       "    'name': 'Marine Parade Road',\n",
       "    'location': {'latitude': 1.30648, 'longitude': 103.9104}},\n",
       "   {'id': 'S44',\n",
       "    'device_id': 'S44',\n",
       "    'name': 'Nanyang Avenue',\n",
       "    'location': {'latitude': 1.34583, 'longitude': 103.68166}},\n",
       "   {'id': 'S119',\n",
       "    'device_id': 'S119',\n",
       "    'name': 'Nicoll Highway',\n",
       "    'location': {'latitude': 1.30105, 'longitude': 103.8666}},\n",
       "   {'id': 'S121',\n",
       "    'device_id': 'S121',\n",
       "    'name': 'Old Choa Chu Kang Road',\n",
       "    'location': {'latitude': 1.37288, 'longitude': 103.72244}},\n",
       "   {'id': 'S35',\n",
       "    'device_id': 'S35',\n",
       "    'name': 'Old Toh Tuck Road',\n",
       "    'location': {'latitude': 1.3329, 'longitude': 103.7556}},\n",
       "   {'id': 'S94',\n",
       "    'device_id': 'S94',\n",
       "    'name': 'Pasir Ris Street 51',\n",
       "    'location': {'latitude': 1.3662, 'longitude': 103.9528}},\n",
       "   {'id': 'S78',\n",
       "    'device_id': 'S78',\n",
       "    'name': 'Poole Road',\n",
       "    'location': {'latitude': 1.30703, 'longitude': 103.89067}},\n",
       "   {'id': 'S106',\n",
       "    'device_id': 'S106',\n",
       "    'name': 'Pulau Ubin',\n",
       "    'location': {'latitude': 1.4168, 'longitude': 103.9673}},\n",
       "   {'id': 'S81',\n",
       "    'device_id': 'S81',\n",
       "    'name': 'Punggol Central',\n",
       "    'location': {'latitude': 1.4029, 'longitude': 103.9092}},\n",
       "   {'id': 'S201',\n",
       "    'device_id': 'S201',\n",
       "    'name': 'S201',\n",
       "    'location': {'latitude': 1.32311, 'longitude': 103.76714}},\n",
       "   {'id': 'S202',\n",
       "    'device_id': 'S202',\n",
       "    'name': 'S202',\n",
       "    'location': {'latitude': 1.30968, 'longitude': 103.7578}},\n",
       "   {'id': 'S203',\n",
       "    'device_id': 'S203',\n",
       "    'name': 'S203',\n",
       "    'location': {'latitude': 1.29164, 'longitude': 103.7702}},\n",
       "   {'id': 'S204',\n",
       "    'device_id': 'S204',\n",
       "    'name': 'S204',\n",
       "    'location': {'latitude': 1.40081, 'longitude': 103.88217}},\n",
       "   {'id': 'S205',\n",
       "    'device_id': 'S205',\n",
       "    'name': 'S205',\n",
       "    'location': {'latitude': 1.38829, 'longitude': 103.9116}},\n",
       "   {'id': 'S207',\n",
       "    'device_id': 'S207',\n",
       "    'name': 'S207',\n",
       "    'location': {'latitude': 1.32485, 'longitude': 103.95836}},\n",
       "   {'id': 'S208',\n",
       "    'device_id': 'S208',\n",
       "    'name': 'S208',\n",
       "    'location': {'latitude': 1.3136, 'longitude': 104.00317}},\n",
       "   {'id': 'S209',\n",
       "    'device_id': 'S209',\n",
       "    'name': 'S209',\n",
       "    'location': {'latitude': 1.42111, 'longitude': 103.84472}},\n",
       "   {'id': 'S210',\n",
       "    'device_id': 'S210',\n",
       "    'name': 'S210',\n",
       "    'location': {'latitude': 1.44003, 'longitude': 103.76904}},\n",
       "   {'id': 'S211',\n",
       "    'device_id': 'S211',\n",
       "    'name': 'S211',\n",
       "    'location': {'latitude': 1.42918, 'longitude': 103.75711}},\n",
       "   {'id': 'S212',\n",
       "    'device_id': 'S212',\n",
       "    'name': 'S212',\n",
       "    'location': {'latitude': 1.31835, 'longitude': 103.93574}},\n",
       "   {'id': 'S213',\n",
       "    'device_id': 'S213',\n",
       "    'name': 'S213',\n",
       "    'location': {'latitude': 1.32427, 'longitude': 103.8097}},\n",
       "   {'id': 'S214',\n",
       "    'device_id': 'S214',\n",
       "    'name': 'S214',\n",
       "    'location': {'latitude': 1.29911, 'longitude': 103.88289}},\n",
       "   {'id': 'S216',\n",
       "    'device_id': 'S216',\n",
       "    'name': 'S216',\n",
       "    'location': {'latitude': 1.36019, 'longitude': 103.85335}},\n",
       "   {'id': 'S217',\n",
       "    'device_id': 'S217',\n",
       "    'name': 'S217',\n",
       "    'location': {'latitude': 1.35041, 'longitude': 103.85526}},\n",
       "   {'id': 'S218',\n",
       "    'device_id': 'S218',\n",
       "    'name': 'S218',\n",
       "    'location': {'latitude': 1.36491, 'longitude': 103.75065}},\n",
       "   {'id': 'S219',\n",
       "    'device_id': 'S219',\n",
       "    'name': 'S219',\n",
       "    'location': {'latitude': 1.37999, 'longitude': 103.87643}},\n",
       "   {'id': 'S220',\n",
       "    'device_id': 'S220',\n",
       "    'name': 'S220',\n",
       "    'location': {'latitude': 1.38666, 'longitude': 103.89797}},\n",
       "   {'id': 'S221',\n",
       "    'device_id': 'S221',\n",
       "    'name': 'S221',\n",
       "    'location': {'latitude': 1.35691, 'longitude': 103.89088}},\n",
       "   {'id': 'S222',\n",
       "    'device_id': 'S222',\n",
       "    'name': 'S222',\n",
       "    'location': {'latitude': 1.28987, 'longitude': 103.82364}},\n",
       "   {'id': 'S223',\n",
       "    'device_id': 'S223',\n",
       "    'name': 'S223',\n",
       "    'location': {'latitude': 1.29984, 'longitude': 103.80264}},\n",
       "   {'id': 'S224',\n",
       "    'device_id': 'S224',\n",
       "    'name': 'S224',\n",
       "    'location': {'latitude': 1.34392, 'longitude': 103.98409}},\n",
       "   {'id': 'S226',\n",
       "    'device_id': 'S226',\n",
       "    'name': 'S226',\n",
       "    'location': {'latitude': 1.27472, 'longitude': 103.80389}},\n",
       "   {'id': 'S227',\n",
       "    'device_id': 'S227',\n",
       "    'name': 'S227',\n",
       "    'location': {'latitude': 1.43944, 'longitude': 103.80389}},\n",
       "   {'id': 'S228',\n",
       "    'device_id': 'S228',\n",
       "    'name': 'S228',\n",
       "    'location': {'latitude': 1.34703, 'longitude': 103.70073}},\n",
       "   {'id': 'S229',\n",
       "    'device_id': 'S229',\n",
       "    'name': 'S229',\n",
       "    'location': {'latitude': 1.35167, 'longitude': 103.72195}},\n",
       "   {'id': 'S230',\n",
       "    'device_id': 'S230',\n",
       "    'name': 'S230',\n",
       "    'location': {'latitude': 1.30167, 'longitude': 103.76444}},\n",
       "   {'id': 'S111',\n",
       "    'device_id': 'S111',\n",
       "    'name': 'Scotts Road',\n",
       "    'location': {'latitude': 1.31055, 'longitude': 103.8365}},\n",
       "   {'id': 'S900',\n",
       "    'device_id': 'S900',\n",
       "    'name': 'Seletar Aerospace View',\n",
       "    'location': {'latitude': 1.41284, 'longitude': 103.86922}},\n",
       "   {'id': 'S84',\n",
       "    'device_id': 'S84',\n",
       "    'name': 'Simei Avenue',\n",
       "    'location': {'latitude': 1.3437, 'longitude': 103.9444}},\n",
       "   {'id': 'S79',\n",
       "    'device_id': 'S79',\n",
       "    'name': 'Somerset Road',\n",
       "    'location': {'latitude': 1.3004, 'longitude': 103.8372}},\n",
       "   {'id': 'S88',\n",
       "    'device_id': 'S88',\n",
       "    'name': 'Toa Payoh North',\n",
       "    'location': {'latitude': 1.3427, 'longitude': 103.8482}},\n",
       "   {'id': 'S123',\n",
       "    'device_id': 'S123',\n",
       "    'name': 'Towner Road',\n",
       "    'location': {'latitude': 1.3214, 'longitude': 103.8577}},\n",
       "   {'id': 'S89',\n",
       "    'device_id': 'S89',\n",
       "    'name': 'Tuas Road',\n",
       "    'location': {'latitude': 1.31985, 'longitude': 103.66162}},\n",
       "   {'id': 'S115',\n",
       "    'device_id': 'S115',\n",
       "    'name': 'Tuas South Avenue 3',\n",
       "    'location': {'latitude': 1.29377, 'longitude': 103.61843}},\n",
       "   {'id': 'S82',\n",
       "    'device_id': 'S82',\n",
       "    'name': 'Tuas West Road',\n",
       "    'location': {'latitude': 1.3247, 'longitude': 103.6351}},\n",
       "   {'id': 'S24',\n",
       "    'device_id': 'S24',\n",
       "    'name': 'Upper Changi Road North',\n",
       "    'location': {'latitude': 1.3678, 'longitude': 103.9826}},\n",
       "   {'id': 'S69',\n",
       "    'device_id': 'S69',\n",
       "    'name': 'Upper Peirce Reservoir Park',\n",
       "    'location': {'latitude': 1.37, 'longitude': 103.805}},\n",
       "   {'id': 'S08',\n",
       "    'device_id': 'S08',\n",
       "    'name': 'Upper Thomson Road',\n",
       "    'location': {'latitude': 1.3701, 'longitude': 103.8271}},\n",
       "   {'id': 'S116',\n",
       "    'device_id': 'S116',\n",
       "    'name': 'West Coast Highway',\n",
       "    'location': {'latitude': 1.281, 'longitude': 103.754}},\n",
       "   {'id': 'S104',\n",
       "    'device_id': 'S104',\n",
       "    'name': 'Woodlands Avenue 9',\n",
       "    'location': {'latitude': 1.44387, 'longitude': 103.78538}},\n",
       "   {'id': 'S100',\n",
       "    'device_id': 'S100',\n",
       "    'name': 'Woodlands Road',\n",
       "    'location': {'latitude': 1.4172, 'longitude': 103.74855}}],\n",
       "  'reading_type': 'TB1 Rainfall 5 Minute Total F',\n",
       "  'reading_unit': 'mm'},\n",
       " 'items': [{'timestamp': '2022-01-20T21:40:00+08:00',\n",
       "   'readings': [{'station_id': 'S77', 'value': 0},\n",
       "    {'station_id': 'S109', 'value': 0},\n",
       "    {'station_id': 'S90', 'value': 0},\n",
       "    {'station_id': 'S114', 'value': 0},\n",
       "    {'station_id': 'S50', 'value': 0},\n",
       "    {'station_id': 'S107', 'value': 0},\n",
       "    {'station_id': 'S215', 'value': 0},\n",
       "    {'station_id': 'S118', 'value': 0},\n",
       "    {'station_id': 'S120', 'value': 0},\n",
       "    {'station_id': 'S33', 'value': 0},\n",
       "    {'station_id': 'S71', 'value': 0},\n",
       "    {'station_id': 'S43', 'value': 0},\n",
       "    {'station_id': 'S66', 'value': 0},\n",
       "    {'station_id': 'S112', 'value': 0},\n",
       "    {'station_id': 'S40', 'value': 0},\n",
       "    {'station_id': 'S108', 'value': 0},\n",
       "    {'station_id': 'S113', 'value': 0},\n",
       "    {'station_id': 'S44', 'value': 0},\n",
       "    {'station_id': 'S119', 'value': 0},\n",
       "    {'station_id': 'S121', 'value': 0},\n",
       "    {'station_id': 'S35', 'value': 0},\n",
       "    {'station_id': 'S94', 'value': 0},\n",
       "    {'station_id': 'S78', 'value': 0},\n",
       "    {'station_id': 'S106', 'value': 0},\n",
       "    {'station_id': 'S81', 'value': 0},\n",
       "    {'station_id': 'S201', 'value': 0},\n",
       "    {'station_id': 'S202', 'value': 0},\n",
       "    {'station_id': 'S203', 'value': 0},\n",
       "    {'station_id': 'S204', 'value': 0},\n",
       "    {'station_id': 'S205', 'value': 0},\n",
       "    {'station_id': 'S207', 'value': 0},\n",
       "    {'station_id': 'S208', 'value': 0},\n",
       "    {'station_id': 'S209', 'value': 0},\n",
       "    {'station_id': 'S210', 'value': 0},\n",
       "    {'station_id': 'S211', 'value': 0},\n",
       "    {'station_id': 'S212', 'value': 0},\n",
       "    {'station_id': 'S213', 'value': 0},\n",
       "    {'station_id': 'S214', 'value': 0},\n",
       "    {'station_id': 'S216', 'value': 0},\n",
       "    {'station_id': 'S217', 'value': 0},\n",
       "    {'station_id': 'S218', 'value': 0},\n",
       "    {'station_id': 'S219', 'value': 0},\n",
       "    {'station_id': 'S220', 'value': 0},\n",
       "    {'station_id': 'S221', 'value': 0},\n",
       "    {'station_id': 'S222', 'value': 0},\n",
       "    {'station_id': 'S223', 'value': 0},\n",
       "    {'station_id': 'S224', 'value': 0},\n",
       "    {'station_id': 'S226', 'value': 0},\n",
       "    {'station_id': 'S227', 'value': 0},\n",
       "    {'station_id': 'S228', 'value': 0},\n",
       "    {'station_id': 'S229', 'value': 0},\n",
       "    {'station_id': 'S230', 'value': 0},\n",
       "    {'station_id': 'S111', 'value': 0},\n",
       "    {'station_id': 'S900', 'value': 0},\n",
       "    {'station_id': 'S84', 'value': 0},\n",
       "    {'station_id': 'S79', 'value': 0},\n",
       "    {'station_id': 'S88', 'value': 0},\n",
       "    {'station_id': 'S123', 'value': 0},\n",
       "    {'station_id': 'S89', 'value': 0},\n",
       "    {'station_id': 'S115', 'value': 0},\n",
       "    {'station_id': 'S82', 'value': 0},\n",
       "    {'station_id': 'S24', 'value': 0},\n",
       "    {'station_id': 'S69', 'value': 0},\n",
       "    {'station_id': 'S08', 'value': 0},\n",
       "    {'station_id': 'S116', 'value': 0},\n",
       "    {'station_id': 'S104', 'value': 0},\n",
       "    {'station_id': 'S100', 'value': 0}]}],\n",
       " 'api_info': {'status': 'healthy'}}"
      ]
     },
     "execution_count": 70,
     "metadata": {},
     "output_type": "execute_result"
    }
   ],
   "source": [
    "gov = 'https://api.data.gov.sg/v1'\n",
    "weather_api = '/environment/rainfall'\n",
    "\n",
    "url = gov+weather_api\n",
    "response = requests.get(url).json()\n",
    "\n",
    "response"
   ]
  },
  {
   "cell_type": "code",
   "execution_count": null,
   "id": "961735f8",
   "metadata": {
    "ExecuteTime": {
     "end_time": "2021-12-21T12:29:52.607010Z",
     "start_time": "2021-12-21T12:29:52.598758Z"
    }
   },
   "outputs": [],
   "source": [
    "response['items'][0]['timestamp']"
   ]
  },
  {
   "cell_type": "code",
   "execution_count": null,
   "id": "cec503cb",
   "metadata": {
    "ExecuteTime": {
     "end_time": "2021-12-21T12:29:52.621536Z",
     "start_time": "2021-12-21T12:29:52.611350Z"
    }
   },
   "outputs": [],
   "source": [
    "response['metadata']['stations'][0]"
   ]
  },
  {
   "cell_type": "code",
   "execution_count": null,
   "id": "9f0f9949",
   "metadata": {
    "ExecuteTime": {
     "end_time": "2021-12-21T12:29:52.671588Z",
     "start_time": "2021-12-21T12:29:52.652161Z"
    }
   },
   "outputs": [],
   "source": [
    "response['items'][0]['readings'][0]"
   ]
  },
  {
   "cell_type": "code",
   "execution_count": null,
   "id": "d3eaf3ff",
   "metadata": {
    "ExecuteTime": {
     "end_time": "2021-12-21T12:29:52.703515Z",
     "start_time": "2021-12-21T12:29:52.674678Z"
    }
   },
   "outputs": [],
   "source": [
    "{'id':response['metadata']['stations'][0]['id'], \n",
    " 'lat':response['metadata']['stations'][0]['location']['latitude'],\n",
    "'lon':response['metadata']['stations'][0]['location']['longitude'],\n",
    "'value':response['items'][0]['readings'][0]['value'],\n",
    "'timestamp':response['items'][0]['timestamp']}"
   ]
  },
  {
   "cell_type": "code",
   "execution_count": 71,
   "id": "2d36c6c4",
   "metadata": {
    "ExecuteTime": {
     "end_time": "2022-01-20T13:51:40.101028Z",
     "start_time": "2022-01-20T13:51:40.026305Z"
    }
   },
   "outputs": [],
   "source": [
    "weather_list = []\n",
    "for index,value in enumerate(response['items'][0]['readings']):\n",
    "    weather_list.append({'id':response['metadata']['stations'][index]['id'], \n",
    " 'lat':response['metadata']['stations'][index]['location']['latitude'],\n",
    "'lon':response['metadata']['stations'][index]['location']['longitude'],\n",
    "'value':response['items'][0]['readings'][index]['value'],\n",
    "'timestamp':response['items'][0]['timestamp']})"
   ]
  },
  {
   "cell_type": "code",
   "execution_count": 72,
   "id": "515a1ec8",
   "metadata": {
    "ExecuteTime": {
     "end_time": "2022-01-20T13:51:42.458578Z",
     "start_time": "2022-01-20T13:51:42.312797Z"
    }
   },
   "outputs": [
    {
     "data": {
      "text/html": [
       "<div>\n",
       "<style scoped>\n",
       "    .dataframe tbody tr th:only-of-type {\n",
       "        vertical-align: middle;\n",
       "    }\n",
       "\n",
       "    .dataframe tbody tr th {\n",
       "        vertical-align: top;\n",
       "    }\n",
       "\n",
       "    .dataframe thead th {\n",
       "        text-align: right;\n",
       "    }\n",
       "</style>\n",
       "<table border=\"1\" class=\"dataframe\">\n",
       "  <thead>\n",
       "    <tr style=\"text-align: right;\">\n",
       "      <th></th>\n",
       "      <th>id</th>\n",
       "      <th>lat</th>\n",
       "      <th>lon</th>\n",
       "      <th>value</th>\n",
       "      <th>timestamp</th>\n",
       "    </tr>\n",
       "  </thead>\n",
       "  <tbody>\n",
       "    <tr>\n",
       "      <th>0</th>\n",
       "      <td>S77</td>\n",
       "      <td>1.29370</td>\n",
       "      <td>103.81250</td>\n",
       "      <td>0</td>\n",
       "      <td>2022-01-20T21:40:00+08:00</td>\n",
       "    </tr>\n",
       "    <tr>\n",
       "      <th>1</th>\n",
       "      <td>S109</td>\n",
       "      <td>1.37640</td>\n",
       "      <td>103.84920</td>\n",
       "      <td>0</td>\n",
       "      <td>2022-01-20T21:40:00+08:00</td>\n",
       "    </tr>\n",
       "    <tr>\n",
       "      <th>2</th>\n",
       "      <td>S90</td>\n",
       "      <td>1.31910</td>\n",
       "      <td>103.81910</td>\n",
       "      <td>0</td>\n",
       "      <td>2022-01-20T21:40:00+08:00</td>\n",
       "    </tr>\n",
       "    <tr>\n",
       "      <th>3</th>\n",
       "      <td>S114</td>\n",
       "      <td>1.38000</td>\n",
       "      <td>103.73000</td>\n",
       "      <td>0</td>\n",
       "      <td>2022-01-20T21:40:00+08:00</td>\n",
       "    </tr>\n",
       "    <tr>\n",
       "      <th>4</th>\n",
       "      <td>S50</td>\n",
       "      <td>1.33370</td>\n",
       "      <td>103.77680</td>\n",
       "      <td>0</td>\n",
       "      <td>2022-01-20T21:40:00+08:00</td>\n",
       "    </tr>\n",
       "    <tr>\n",
       "      <th>...</th>\n",
       "      <td>...</td>\n",
       "      <td>...</td>\n",
       "      <td>...</td>\n",
       "      <td>...</td>\n",
       "      <td>...</td>\n",
       "    </tr>\n",
       "    <tr>\n",
       "      <th>62</th>\n",
       "      <td>S69</td>\n",
       "      <td>1.37000</td>\n",
       "      <td>103.80500</td>\n",
       "      <td>0</td>\n",
       "      <td>2022-01-20T21:40:00+08:00</td>\n",
       "    </tr>\n",
       "    <tr>\n",
       "      <th>63</th>\n",
       "      <td>S08</td>\n",
       "      <td>1.37010</td>\n",
       "      <td>103.82710</td>\n",
       "      <td>0</td>\n",
       "      <td>2022-01-20T21:40:00+08:00</td>\n",
       "    </tr>\n",
       "    <tr>\n",
       "      <th>64</th>\n",
       "      <td>S116</td>\n",
       "      <td>1.28100</td>\n",
       "      <td>103.75400</td>\n",
       "      <td>0</td>\n",
       "      <td>2022-01-20T21:40:00+08:00</td>\n",
       "    </tr>\n",
       "    <tr>\n",
       "      <th>65</th>\n",
       "      <td>S104</td>\n",
       "      <td>1.44387</td>\n",
       "      <td>103.78538</td>\n",
       "      <td>0</td>\n",
       "      <td>2022-01-20T21:40:00+08:00</td>\n",
       "    </tr>\n",
       "    <tr>\n",
       "      <th>66</th>\n",
       "      <td>S100</td>\n",
       "      <td>1.41720</td>\n",
       "      <td>103.74855</td>\n",
       "      <td>0</td>\n",
       "      <td>2022-01-20T21:40:00+08:00</td>\n",
       "    </tr>\n",
       "  </tbody>\n",
       "</table>\n",
       "<p>67 rows × 5 columns</p>\n",
       "</div>"
      ],
      "text/plain": [
       "      id      lat        lon  value                  timestamp\n",
       "0    S77  1.29370  103.81250      0  2022-01-20T21:40:00+08:00\n",
       "1   S109  1.37640  103.84920      0  2022-01-20T21:40:00+08:00\n",
       "2    S90  1.31910  103.81910      0  2022-01-20T21:40:00+08:00\n",
       "3   S114  1.38000  103.73000      0  2022-01-20T21:40:00+08:00\n",
       "4    S50  1.33370  103.77680      0  2022-01-20T21:40:00+08:00\n",
       "..   ...      ...        ...    ...                        ...\n",
       "62   S69  1.37000  103.80500      0  2022-01-20T21:40:00+08:00\n",
       "63   S08  1.37010  103.82710      0  2022-01-20T21:40:00+08:00\n",
       "64  S116  1.28100  103.75400      0  2022-01-20T21:40:00+08:00\n",
       "65  S104  1.44387  103.78538      0  2022-01-20T21:40:00+08:00\n",
       "66  S100  1.41720  103.74855      0  2022-01-20T21:40:00+08:00\n",
       "\n",
       "[67 rows x 5 columns]"
      ]
     },
     "execution_count": 72,
     "metadata": {},
     "output_type": "execute_result"
    }
   ],
   "source": [
    "pd.DataFrame(weather_list)"
   ]
  },
  {
   "cell_type": "code",
   "execution_count": null,
   "id": "ec05db82",
   "metadata": {
    "ExecuteTime": {
     "end_time": "2021-12-21T12:30:04.700848Z",
     "start_time": "2021-12-21T12:29:52.770000Z"
    }
   },
   "outputs": [],
   "source": [
    "def parse_rainfall_data():\n",
    "    '''\n",
    "    This function calls the rainfall API\n",
    "    and parses it into a dataframe.\n",
    "    Available columns are id, lat, lon, value and timestamp\n",
    "    \n",
    "    value represents rainfall, where 0 is no rain.\n",
    "    '''\n",
    "    gov = 'https://api.data.gov.sg/v1'\n",
    "    weather_api = '/environment/rainfall'\n",
    "\n",
    "    url = gov+weather_api\n",
    "    response = requests.get(url).json()\n",
    "\n",
    "    timestamp_str = response['items'][0]['timestamp']\n",
    "    timestamp = datetime.strptime(timestamp_str, '%Y-%m-%dT%H:%M:%S+08:00')\n",
    "    weather_list = []\n",
    "    for index,value in enumerate(response['items'][0]['readings']):\n",
    "        weather_list.append({'id':response['metadata']['stations'][index]['id'], \n",
    "     'lat':response['metadata']['stations'][index]['location']['latitude'],\n",
    "    'lon':response['metadata']['stations'][index]['location']['longitude'],\n",
    "    'value':response['items'][0]['readings'][index]['value'],\n",
    "    'timestamp': timestamp})\n",
    "        \n",
    "    return pd.DataFrame(weather_list)\n",
    "\n",
    "parse_rainfall_data()"
   ]
  },
  {
   "cell_type": "markdown",
   "id": "ffd63af2",
   "metadata": {},
   "source": [
    "## Ranked distance between lat lon points - pandas apply\n",
    "\n",
    "Given 2 sets of (lat,lon) this function is to calculate the \n",
    "haversine distance between a point and a set of fixed points \n",
    "then find the nearby pairs, ranked by distance"
   ]
  },
  {
   "cell_type": "code",
   "execution_count": null,
   "id": "13a46007",
   "metadata": {
    "ExecuteTime": {
     "end_time": "2021-12-21T12:30:49.365595Z",
     "start_time": "2021-12-21T12:30:38.751987Z"
    }
   },
   "outputs": [],
   "source": [
    "from math import radians, sin, cos, asin, sqrt\n",
    "\n",
    "def haversine_distance(lon1, lat1, lon2, lat2):\n",
    "    \"\"\"\n",
    "    Compute distance between two pairs of coordinates (lon1, lat1, lon2, lat2)\n",
    "    See - (https://en.wikipedia.org/wiki/Haversine_formula)\n",
    "    Distance is measured in kilometers when r = 6371\n",
    "    r = 6371  Radius of earth in kilometers. Use 3956 for miles. Determines return value units.\n",
    "    Lats and Longs are converted to radians first then computed used haversine\n",
    "    \"\"\"\n",
    "    lon1, lat1, lon2, lat2 = map(radians, [lon1, lat1, lon2, lat2])\n",
    "    dlon = lon2 - lon1\n",
    "    dlat = lat2 - lat1\n",
    "    a = sin(dlat / 2) ** 2 + cos(lat1) * cos(lat2) * sin(dlon / 2) ** 2\n",
    "    radius = 6371\n",
    "    return 2 * radius * asin(sqrt(a))\n",
    "\n",
    "df = parse_rainfall_data()\n",
    "df"
   ]
  },
  {
   "cell_type": "code",
   "execution_count": null,
   "id": "cb806843",
   "metadata": {
    "ExecuteTime": {
     "end_time": "2021-12-21T12:30:52.439715Z",
     "start_time": "2021-12-21T12:30:52.396544Z"
    }
   },
   "outputs": [],
   "source": [
    "test_lat, test_lon = 1.41720, 103.74855\n",
    "\n",
    "df['distance']=df.apply(lambda row: haversine_distance(row.lon, row.lat, test_lon, test_lat)\n",
    "                        , axis=1)\n",
    "df.sort_values(by='distance')"
   ]
  },
  {
   "cell_type": "code",
   "execution_count": null,
   "id": "de488373",
   "metadata": {
    "ExecuteTime": {
     "end_time": "2021-12-17T11:51:30.224381Z",
     "start_time": "2021-12-17T11:51:30.216858Z"
    }
   },
   "outputs": [],
   "source": [
    "def point_to_set_ranked_distance(test_lat, test_lon, df, cutoff=10):\n",
    "    '''\n",
    "    Provide a test latitude and longitude to compare with \n",
    "    a dataframe df, which has columns 'lat' and 'lon'\n",
    "    '''\n",
    "    df = df[['lat','lon']]\n",
    "    df['distance']=df.apply(lambda row: haversine_distance(row.lon, row.lat, test_lon, test_lat)\n",
    "                        , axis=1)\n",
    "    return df.sort_values(by='distance').iloc[:cutoff]"
   ]
  },
  {
   "cell_type": "code",
   "execution_count": null,
   "id": "5da5a22c",
   "metadata": {
    "ExecuteTime": {
     "end_time": "2021-12-17T11:52:26.437192Z",
     "start_time": "2021-12-17T11:52:26.405310Z"
    }
   },
   "outputs": [],
   "source": [
    "df = df.drop(columns=['distance'])\n",
    "point_to_set_ranked_distance(1.3137, 103.99, df)"
   ]
  },
  {
   "cell_type": "markdown",
   "id": "45f863f8",
   "metadata": {},
   "source": [
    "So far this is OK-fast for comparing 1 point with a set of fixed points (e.g. a taxi with all taxi-stands).\n",
    "Doing this for all taxis (and all taxi stands) might be time consuming (1-2 minutes?)"
   ]
  },
  {
   "cell_type": "markdown",
   "id": "211d92ee",
   "metadata": {},
   "source": [
    "## Taxi Stop Data\n",
    "\n",
    "This data is avaiable as a GeoJSON in:\n",
    "https://data.gov.sg/dataset/lta-taxi-stop?resource_id=113b362f-ffc7-4e06-adb1-1c06e8b8ae90\n",
    "\n"
   ]
  },
  {
   "cell_type": "code",
   "execution_count": null,
   "id": "f12daf57",
   "metadata": {
    "ExecuteTime": {
     "end_time": "2021-12-21T12:35:27.422015Z",
     "start_time": "2021-12-21T12:35:27.276154Z"
    }
   },
   "outputs": [],
   "source": [
    "import json\n",
    "\n",
    "with open('../raw_data/lta-taxi-stop-geojson.geojson') as geofile:\n",
    "    taxi_stands_json = json.load(geofile)\n",
    "\n",
    "taxi_stands_json"
   ]
  },
  {
   "cell_type": "markdown",
   "id": "1cac0ef3",
   "metadata": {},
   "source": [
    "I will now parse the contents so as to keep the Name and Coordinates of taxi stands"
   ]
  },
  {
   "cell_type": "code",
   "execution_count": null,
   "id": "5db1f00b",
   "metadata": {
    "ExecuteTime": {
     "end_time": "2021-12-21T12:35:34.963153Z",
     "start_time": "2021-12-21T12:35:34.944300Z"
    }
   },
   "outputs": [],
   "source": [
    "taxi_stands_dict = []\n",
    "\n",
    "for ts in taxi_stands_json['features']:\n",
    "    taxi_stands_dict.append( {'ts_id':ts['properties']['Name'],'lat':ts['geometry']['coordinates'][1] ,\n",
    "                                                'lon':ts['geometry']['coordinates'][0]})\n",
    "ts_df = pd.DataFrame(taxi_stands_dict)\n",
    "ts_df.head()"
   ]
  },
  {
   "cell_type": "markdown",
   "id": "03a7ee7d",
   "metadata": {},
   "source": [
    "### Ranked distance between lat lon points - numpy broadcasting\n",
    "\n",
    "Given 2 sets of (lat,lon) this function is to calculate the \n",
    "haversine distance between a point and a set of fixed points \n",
    "then find the nearby pairs, ranked by distance"
   ]
  },
  {
   "cell_type": "code",
   "execution_count": null,
   "id": "58de2f8e",
   "metadata": {
    "ExecuteTime": {
     "end_time": "2021-12-21T13:14:45.240006Z",
     "start_time": "2021-12-21T13:14:45.218484Z"
    }
   },
   "outputs": [],
   "source": [
    "def find_nearest_taxi_stand(taxi_lat=1.281261,taxi_lon=103.846358):\n",
    "    '''\n",
    "    Given all the static positions of the nearby taxi stands\n",
    "    we can get the distance with all of them, and return the nearest 10 taxi stands.\n",
    "    \n",
    "    We can assume that a taxi is IN the taxi stand when the distance is < 100 m = 0.1 km\n",
    "    \n",
    "    Python wise we'll be using broadcasting method, so we do the difference of all taxi stands (ts)\n",
    "    with a given taxi_lat and taxi_lon in one shot, not in a for loop.\n",
    "    '''\n",
    "\n",
    "    taxi_lat_rad = np.deg2rad(taxi_lat)\n",
    "    taxi_lon_rad = np.deg2rad(taxi_lon)\n",
    "\n",
    "    ts_lat = np.array(ts_df['lat'].tolist())\n",
    "    ts_lat_rad = np.deg2rad(ts_lat)\n",
    "\n",
    "    ts_lon = np.array(ts_df['lon'].tolist())\n",
    "    ts_lon_rad = np.deg2rad(ts_lon)\n",
    "\n",
    "    dlat = ts_lat_rad - taxi_lat_rad\n",
    "    dlon = ts_lon_rad - taxi_lon_rad\n",
    "\n",
    "    d = np.sin(dlat/2)**2 + np.cos(ts_lat_rad)*np.cos(taxi_lat_rad) * np.sin(dlon/2)**2\n",
    "    distance =  2 * 6371 * np.arcsin(np.sqrt(d))\n",
    "\n",
    "    df = ts_df.copy()\n",
    "    df['distance']=distance\n",
    "    df.sort_values(by='distance', inplace=True)\n",
    "    return df.iloc[:10]\n",
    "\n",
    "taxi_lat = 1.2732\n",
    "taxi_long = 103.9435\n",
    "\n",
    "find_nearest_taxi_stand(taxi_lat, taxi_lon)"
   ]
  },
  {
   "cell_type": "markdown",
   "id": "784fd740",
   "metadata": {},
   "source": [
    "### Count taxis in taxi_stands\n",
    "\n",
    "Here we'll use the available taxi information to find all the taxis that are already near (<100m) taxistands.\n",
    "I will have a counter for each timestamp, so that we can return a timestamped dataframe with the taxi count for each taxi stand. I expect most to be zero.\n"
   ]
  },
  {
   "cell_type": "code",
   "execution_count": null,
   "id": "c78ac98a",
   "metadata": {
    "ExecuteTime": {
     "end_time": "2021-12-28T10:58:18.233497Z",
     "start_time": "2021-12-28T10:58:12.339726Z"
    }
   },
   "outputs": [],
   "source": [
    "taxi_url = \"https://api.data.gov.sg/v1/transport/taxi-availability\"\n",
    "r = requests.get(taxi_url)\n",
    "coordinates = r.json()[\"features\"][0][\"geometry\"][\"coordinates\"]\n",
    "timestamp_str = r.json()['features'][0]['properties']['timestamp']\n",
    "timestamp = datetime.strptime(timestamp_str, '%Y-%m-%dT%H:%M:%S+08:00')"
   ]
  },
  {
   "cell_type": "code",
   "execution_count": null,
   "id": "2424d55f",
   "metadata": {
    "ExecuteTime": {
     "end_time": "2021-12-21T13:43:27.867533Z",
     "start_time": "2021-12-21T13:43:22.490888Z"
    }
   },
   "outputs": [],
   "source": [
    "ts_counter = dict(zip(ts_df['ts_id'].tolist(),[0 for _ in ts_df['ts_id'].tolist()]))\n",
    "\n",
    "for taxi_coordinates in coordinates:\n",
    "    lon,lat = taxi_coordinates\n",
    "    d_df = find_nearest_taxi_stand(lat,lon)\n",
    "    d_df = d_df[d_df['distance']<0.1]\n",
    "    for ts in d_df['ts_id'].tolist():\n",
    "        ts_counter[ts] += 1"
   ]
  },
  {
   "cell_type": "code",
   "execution_count": null,
   "id": "e1c030a5",
   "metadata": {
    "ExecuteTime": {
     "end_time": "2021-12-21T13:57:33.970323Z",
     "start_time": "2021-12-21T13:57:33.929920Z"
    }
   },
   "outputs": [],
   "source": [
    "tmp_taxi_stand_counter = pd.DataFrame.from_dict(ts_counter, orient='index')\n",
    "tmp_taxi_stand_counter.reset_index(inplace=True)\n",
    "tmp_taxi_stand_counter['timestamp'] = timestamp\n",
    "tmp_taxi_stand_counter = tmp_taxi_stand_counter.rename(columns={0:'taxi_count', 'index':'ts_id'})\n",
    "# tmp_taxi_stand_counter\n",
    "ts_df.merge(tmp_taxi_stand_counter)"
   ]
  },
  {
   "cell_type": "code",
   "execution_count": null,
   "id": "45cbc41c",
   "metadata": {
    "ExecuteTime": {
     "end_time": "2021-12-21T13:55:04.768081Z",
     "start_time": "2021-12-21T13:55:04.751097Z"
    }
   },
   "outputs": [],
   "source": [
    "r.json()['features'][0]['properties']['timestamp']"
   ]
  },
  {
   "cell_type": "code",
   "execution_count": null,
   "id": "3b081a8a",
   "metadata": {
    "ExecuteTime": {
     "end_time": "2021-12-23T02:36:57.948275Z",
     "start_time": "2021-12-23T02:36:49.619057Z"
    }
   },
   "outputs": [],
   "source": [
    "def get_taxi_stands():\n",
    "    taxi_stands_dict = []\n",
    "    for ts in taxi_stands_json['features']:\n",
    "        taxi_stands_dict.append( {'ts_id':ts['properties']['Name'],'lat':ts['geometry']['coordinates'][1] ,\n",
    "                                                    'lon':ts['geometry']['coordinates'][0]})\n",
    "    ts_df = pd.DataFrame(taxi_stands_dict)\n",
    "    return ts_df\n",
    "\n",
    "def count_taxis_in_ts():\n",
    "    taxi_url = \"https://api.data.gov.sg/v1/transport/taxi-availability\"\n",
    "    r = requests.get(taxi_url)\n",
    "    coordinates = r.json()[\"features\"][0][\"geometry\"][\"coordinates\"]\n",
    "    timestamp_str = r.json()['features'][0]['properties']['timestamp']\n",
    "    timestamp = datetime.strptime(timestamp_str, '%Y-%m-%dT%H:%M:%S+08:00')\n",
    "    \n",
    "    ts_counter = dict(zip(ts_df['ts_id'].tolist(),[0 for _ in ts_df['ts_id'].tolist()]))\n",
    "\n",
    "    for taxi_coordinates in coordinates:\n",
    "        lon,lat = taxi_coordinates\n",
    "        d_df = find_nearest_taxi_stand(lat,lon)\n",
    "        d_df = d_df[d_df['distance']<0.1]\n",
    "        for ts in d_df['ts_id'].tolist():\n",
    "            ts_counter[ts] += 1\n",
    "    \n",
    "    tmp_taxi_stand_counter = pd.DataFrame.from_dict(ts_counter, orient='index')\n",
    "    tmp_taxi_stand_counter.reset_index(inplace=True)\n",
    "    tmp_taxi_stand_counter['timestamp'] = timestamp\n",
    "    tmp_taxi_stand_counter = tmp_taxi_stand_counter.rename(columns={0:'taxi_count', 'index':'ts_id'})\n",
    "    # tmp_taxi_stand_counter\n",
    "    return ts_df.merge(tmp_taxi_stand_counter)\n",
    "\n",
    "ts_df = get_taxi_stands()\n",
    "ts_taxi_df = count_taxis_in_ts()\n",
    "ts_taxi_df"
   ]
  },
  {
   "cell_type": "markdown",
   "id": "13009825",
   "metadata": {
    "ExecuteTime": {
     "end_time": "2022-01-20T13:29:45.682428Z",
     "start_time": "2022-01-20T13:29:45.559922Z"
    }
   },
   "source": [
    "# Big Query"
   ]
  },
  {
   "cell_type": "markdown",
   "id": "a77171b2",
   "metadata": {},
   "source": [
    "## Testing gcloud storage for cloud functions\n"
   ]
  },
  {
   "cell_type": "code",
   "execution_count": null,
   "id": "abf7e242",
   "metadata": {
    "ExecuteTime": {
     "end_time": "2021-12-27T19:25:39.897252Z",
     "start_time": "2021-12-27T19:25:39.653362Z"
    }
   },
   "outputs": [],
   "source": [
    "from google.cloud import storage\n",
    "BUCKET_NAME = 'static-file-storage'\n",
    "BUCKET_TAXI_STAND_GEOJSON_PATH = 'lta-taxi-stop-geojson.geojson'\n",
    "public_path = 'https://storage.cloud.google.com/static-file-storage/lta-taxi-stop-geojson.geojson'\n",
    "# Add Client() here\n",
    "client = storage.Client()\n",
    "path = f\"gs://{BUCKET_NAME}/{BUCKET_TAXI_STAND_GEOJSON_PATH}\"\n",
    "local_path = '/Users/alejandroseif/Downloads/lta-taxi-stop-geojson.geojson'\n",
    "# geojson_gcloud_path = 'gs://static-file-storage/lta-taxi-stop-geojson.geojson'\n",
    "with open(local_path) as geofile:\n",
    "    '''\n",
    "    Take geojson file provided by LTA where the taxi stands coordinates are provided\n",
    "    '''\n",
    "    taxi_stands_json = json.load(geofile)\n",
    "taxi_stands_json"
   ]
  },
  {
   "cell_type": "code",
   "execution_count": null,
   "id": "185603de",
   "metadata": {
    "ExecuteTime": {
     "end_time": "2021-12-27T18:43:27.967866Z",
     "start_time": "2021-12-27T18:43:27.667443Z"
    }
   },
   "outputs": [],
   "source": [
    "### GCP Storage - - - - - - - - - - - - - - - - - - - - - -\n",
    "BUCKET_NAME = 'static-file-storage'\n",
    "BUCKET_TAXI_STAND_GEOJSON_PATH = 'lta-taxi-stop-geojson.geojson'\n",
    "public_path = 'https://storage.cloud.google.com/static-file-storage/lta-taxi-stop-geojson.geojson'\n",
    "# Add Client() here\n",
    "client = storage.Client()\n",
    "path = f\"gs://{BUCKET_NAME}/{BUCKET_TAXI_STAND_GEOJSON_PATH}\""
   ]
  },
  {
   "cell_type": "code",
   "execution_count": null,
   "id": "f8656703",
   "metadata": {
    "ExecuteTime": {
     "end_time": "2021-12-27T19:30:28.972814Z",
     "start_time": "2021-12-27T19:30:19.014381Z"
    }
   },
   "outputs": [],
   "source": [
    "from google.cloud import storage\n",
    "\n",
    "\n",
    "\"\"\"Downloads a blob from the bucket.\"\"\"\n",
    "# The ID of your GCS bucket\n",
    "bucket_name = 'static-file-storage'\n",
    "\n",
    "# The ID of your GCS object\n",
    "source_blob_name = 'lta-taxi-stop-geojson.geojson'\n",
    "\n",
    "# The path to which the file should be downloaded\n",
    "# destination_file_name = \"local/path/to/file\"\n",
    "\n",
    "storage_client = storage.Client()\n",
    "\n",
    "bucket = storage_client.bucket(bucket_name)\n",
    "\n",
    "# Construct a client side representation of a blob.\n",
    "# Note `Bucket.blob` differs from `Bucket.get_blob` as it doesn't retrieve\n",
    "# any content from Google Cloud Storage. As we don't need additional data,\n",
    "# using `Bucket.blob` is preferred here.\n",
    "blob = bucket.blob(source_blob_name)\n",
    "#     blob.download_to_filename(destination_file_name)\n",
    "# blob.open()\n",
    "# blob.path\n",
    "geofile = blob.open()\n",
    "taxi_stands_json = json.load(geofile)\n",
    "taxi_stands_json"
   ]
  },
  {
   "cell_type": "markdown",
   "id": "81b8695d",
   "metadata": {},
   "source": [
    "## Changing API to get Taxis in real time to LTA data mall"
   ]
  },
  {
   "cell_type": "code",
   "execution_count": null,
   "id": "8152cb1b",
   "metadata": {
    "ExecuteTime": {
     "end_time": "2021-12-29T13:51:48.797966Z",
     "start_time": "2021-12-29T13:51:46.286821Z"
    }
   },
   "outputs": [],
   "source": [
    "taxi_url = \"https://api.data.gov.sg/v1/transport/taxi-availability\"\n",
    "r = requests.get(taxi_url)\n",
    "r.json()\n",
    "# coordinates = r.json()[\"features\"][0][\"geometry\"][\"coordinates\"]"
   ]
  },
  {
   "cell_type": "code",
   "execution_count": null,
   "id": "4e181b3d",
   "metadata": {
    "ExecuteTime": {
     "end_time": "2021-12-28T11:44:30.618638Z",
     "start_time": "2021-12-28T11:44:30.599475Z"
    }
   },
   "outputs": [],
   "source": [
    "def get_taxi_coordinates_from_lta():\n",
    "    taxi_coordinates =[]\n",
    "    for index in range(20):\n",
    "        skip=0+500*index\n",
    "    #     print(f'skip at {skip}')\n",
    "        uri = f'http://datamall2.mytransport.sg/ltaodataservice/Taxi-Availability?$skip={skip}'\n",
    "        headers = { 'AccountKey' : 'BehS/IpVR0KOFQ+BgFqM5g==',\n",
    "        'accept' : 'application/json'} #this is by default\n",
    "        r = requests.get(url=uri, headers=headers).json()\n",
    "        if len(requests.get(url=uri, headers=headers).json()[\"value\"]) == 0:\n",
    "            break\n",
    "        taxi_coordinates += r['value']\n",
    "    return taxi_coordinates\n",
    "# print('Done')"
   ]
  },
  {
   "cell_type": "code",
   "execution_count": null,
   "id": "a43d3855",
   "metadata": {
    "ExecuteTime": {
     "end_time": "2021-12-29T14:09:36.728615Z",
     "start_time": "2021-12-29T14:09:10.314037Z"
    }
   },
   "outputs": [],
   "source": [
    "temp = get_taxi_coordinates_from_lta()"
   ]
  },
  {
   "cell_type": "code",
   "execution_count": null,
   "id": "31561328",
   "metadata": {
    "ExecuteTime": {
     "end_time": "2021-12-29T14:59:05.144859Z",
     "start_time": "2021-12-29T14:59:04.088194Z"
    }
   },
   "outputs": [],
   "source": [
    "for taxi_coordinates in coordinates:\n",
    "        lon = taxi_coordinates['Longitude']\n",
    "        lat = taxi_coordinates['Latitude']\n",
    "        print(lon,lat)\n",
    "        "
   ]
  },
  {
   "cell_type": "markdown",
   "id": "1b9940fd",
   "metadata": {},
   "source": [
    "# Query from BigQuery"
   ]
  },
  {
   "cell_type": "markdown",
   "id": "7e2877d4",
   "metadata": {
    "ExecuteTime": {
     "end_time": "2021-12-30T12:43:49.350722Z",
     "start_time": "2021-12-30T12:43:49.345421Z"
    }
   },
   "source": [
    "## Example using BigQuery on an open dataset"
   ]
  },
  {
   "cell_type": "code",
   "execution_count": 2,
   "id": "cf7c7e68",
   "metadata": {
    "ExecuteTime": {
     "end_time": "2022-01-24T06:50:48.490438Z",
     "start_time": "2022-01-24T06:50:47.494133Z"
    }
   },
   "outputs": [],
   "source": [
    "%load_ext google.cloud.bigquery\n",
    "# !pip install --upgrade 'google-cloud-bigquery[bqstorage,pandas]'"
   ]
  },
  {
   "cell_type": "markdown",
   "id": "73bbbef6",
   "metadata": {},
   "source": [
    "## Test for Streamlit using BigQuery"
   ]
  },
  {
   "cell_type": "code",
   "execution_count": 23,
   "id": "5807e763",
   "metadata": {
    "ExecuteTime": {
     "end_time": "2022-01-24T07:25:37.637976Z",
     "start_time": "2022-01-24T07:25:35.948753Z"
    }
   },
   "outputs": [
    {
     "data": {
      "text/html": [
       "<div>\n",
       "<style scoped>\n",
       "    .dataframe tbody tr th:only-of-type {\n",
       "        vertical-align: middle;\n",
       "    }\n",
       "\n",
       "    .dataframe tbody tr th {\n",
       "        vertical-align: top;\n",
       "    }\n",
       "\n",
       "    .dataframe thead th {\n",
       "        text-align: right;\n",
       "    }\n",
       "</style>\n",
       "<table border=\"1\" class=\"dataframe\">\n",
       "  <thead>\n",
       "    <tr style=\"text-align: right;\">\n",
       "      <th></th>\n",
       "      <th>ts_id</th>\n",
       "      <th>prediction</th>\n",
       "      <th>timestamp_pred</th>\n",
       "      <th>latitude</th>\n",
       "      <th>longitude</th>\n",
       "    </tr>\n",
       "  </thead>\n",
       "  <tbody>\n",
       "  </tbody>\n",
       "</table>\n",
       "</div>"
      ],
      "text/plain": [
       "Empty DataFrame\n",
       "Columns: [ts_id, prediction, timestamp_pred, latitude, longitude]\n",
       "Index: []"
      ]
     },
     "execution_count": 23,
     "metadata": {},
     "output_type": "execute_result"
    }
   ],
   "source": [
    "\n",
    "def SQL_Query(taxi_stands_string):\n",
    "    '''\n",
    "    Takes a taxi_stand_list and performs a query on the latest\n",
    "    predictions on taxi_stand occupation\n",
    "    '''\n",
    "    taxi_stand_tuple = tuple(taxi_stands_string.split('-'))\n",
    "\n",
    "    QUERY_TS_PRED =f\"\"\"\n",
    "    SELECT p.taxi_st_id as ts_id, p.taxi_count_pred as prediction, p.timestamp_pred as timestamp_pred,\n",
    "    c.taxi_st_lat as latitude, c.taxi_st_lon as longitude\n",
    "    FROM `taxi-compass-lewagon.api_dataset.r_taxi_stand_pred` as p\n",
    "    LEFT JOIN `taxi-compass-lewagon.api_dataset.c_taxi_stand` as c\n",
    "    ON p.taxi_st_id = c.taxi_st_id\n",
    "    WHERE timestamp_pred = \"{time_df}\" AND p.taxi_st_id in {taxi_stand_tuple}\n",
    "    \"\"\"\n",
    "\n",
    "    query_job = bigquery_client.query(QUERY_TS_PRED)\n",
    "    query_df = query_job.to_dataframe()\n",
    "    return query_df\n",
    "\n",
    "time_df = '2022-01-26 15:25:00'\n",
    "taxi_stands_string = 'kml_11-kml_9'\n",
    "results_df = SQL_Query(taxi_stands_string)\n",
    "results_df"
   ]
  },
  {
   "cell_type": "markdown",
   "id": "880d119a",
   "metadata": {
    "ExecuteTime": {
     "end_time": "2022-01-24T07:25:39.024935Z",
     "start_time": "2022-01-24T07:25:39.017267Z"
    }
   },
   "source": [
    "## Check available prediction dates in Big Query using Streamlit"
   ]
  },
  {
   "cell_type": "code",
   "execution_count": 25,
   "id": "efeb5185",
   "metadata": {
    "ExecuteTime": {
     "end_time": "2022-01-24T07:27:08.359983Z",
     "start_time": "2022-01-24T07:27:06.163344Z"
    }
   },
   "outputs": [
    {
     "data": {
      "text/html": [
       "<div>\n",
       "<style scoped>\n",
       "    .dataframe tbody tr th:only-of-type {\n",
       "        vertical-align: middle;\n",
       "    }\n",
       "\n",
       "    .dataframe tbody tr th {\n",
       "        vertical-align: top;\n",
       "    }\n",
       "\n",
       "    .dataframe thead th {\n",
       "        text-align: right;\n",
       "    }\n",
       "</style>\n",
       "<table border=\"1\" class=\"dataframe\">\n",
       "  <thead>\n",
       "    <tr style=\"text-align: right;\">\n",
       "      <th></th>\n",
       "      <th>pred_dates</th>\n",
       "      <th>timestamp_pred</th>\n",
       "    </tr>\n",
       "  </thead>\n",
       "  <tbody>\n",
       "    <tr>\n",
       "      <th>0</th>\n",
       "      <td>2022-01-24 15:28:00</td>\n",
       "      <td>2022-01-24 15:28:00</td>\n",
       "    </tr>\n",
       "    <tr>\n",
       "      <th>1</th>\n",
       "      <td>2022-01-24 15:29:00</td>\n",
       "      <td>2022-01-24 15:29:00</td>\n",
       "    </tr>\n",
       "    <tr>\n",
       "      <th>2</th>\n",
       "      <td>2022-01-24 15:30:00</td>\n",
       "      <td>2022-01-24 15:30:00</td>\n",
       "    </tr>\n",
       "    <tr>\n",
       "      <th>3</th>\n",
       "      <td>2022-01-24 15:31:00</td>\n",
       "      <td>2022-01-24 15:31:00</td>\n",
       "    </tr>\n",
       "    <tr>\n",
       "      <th>4</th>\n",
       "      <td>2022-01-24 15:32:00</td>\n",
       "      <td>2022-01-24 15:32:00</td>\n",
       "    </tr>\n",
       "    <tr>\n",
       "      <th>5</th>\n",
       "      <td>2022-01-24 15:33:00</td>\n",
       "      <td>2022-01-24 15:33:00</td>\n",
       "    </tr>\n",
       "    <tr>\n",
       "      <th>6</th>\n",
       "      <td>2022-01-24 15:34:00</td>\n",
       "      <td>2022-01-24 15:34:00</td>\n",
       "    </tr>\n",
       "    <tr>\n",
       "      <th>7</th>\n",
       "      <td>2022-01-24 15:35:00</td>\n",
       "      <td>2022-01-24 15:35:00</td>\n",
       "    </tr>\n",
       "    <tr>\n",
       "      <th>8</th>\n",
       "      <td>2022-01-24 15:36:00</td>\n",
       "      <td>2022-01-24 15:36:00</td>\n",
       "    </tr>\n",
       "    <tr>\n",
       "      <th>9</th>\n",
       "      <td>2022-01-24 15:37:00</td>\n",
       "      <td>2022-01-24 15:37:00</td>\n",
       "    </tr>\n",
       "    <tr>\n",
       "      <th>10</th>\n",
       "      <td>2022-01-24 15:38:00</td>\n",
       "      <td>2022-01-24 15:38:00</td>\n",
       "    </tr>\n",
       "    <tr>\n",
       "      <th>11</th>\n",
       "      <td>2022-01-24 15:39:00</td>\n",
       "      <td>2022-01-24 15:39:00</td>\n",
       "    </tr>\n",
       "    <tr>\n",
       "      <th>12</th>\n",
       "      <td>2022-01-24 15:40:00</td>\n",
       "      <td>2022-01-24 15:40:00</td>\n",
       "    </tr>\n",
       "  </tbody>\n",
       "</table>\n",
       "</div>"
      ],
      "text/plain": [
       "            pred_dates       timestamp_pred\n",
       "0  2022-01-24 15:28:00  2022-01-24 15:28:00\n",
       "1  2022-01-24 15:29:00  2022-01-24 15:29:00\n",
       "2  2022-01-24 15:30:00  2022-01-24 15:30:00\n",
       "3  2022-01-24 15:31:00  2022-01-24 15:31:00\n",
       "4  2022-01-24 15:32:00  2022-01-24 15:32:00\n",
       "5  2022-01-24 15:33:00  2022-01-24 15:33:00\n",
       "6  2022-01-24 15:34:00  2022-01-24 15:34:00\n",
       "7  2022-01-24 15:35:00  2022-01-24 15:35:00\n",
       "8  2022-01-24 15:36:00  2022-01-24 15:36:00\n",
       "9  2022-01-24 15:37:00  2022-01-24 15:37:00\n",
       "10 2022-01-24 15:38:00  2022-01-24 15:38:00\n",
       "11 2022-01-24 15:39:00  2022-01-24 15:39:00\n",
       "12 2022-01-24 15:40:00  2022-01-24 15:40:00"
      ]
     },
     "execution_count": 25,
     "metadata": {},
     "output_type": "execute_result"
    }
   ],
   "source": [
    "def SQL_prediction_date():\n",
    "    '''\n",
    "    Upon starting, take the distinct available dates for prediction.\n",
    "    This function needs only to be ran once, so cacheing it allows for\n",
    "    faster times anytime we interact with the streamlit page.\n",
    "    '''\n",
    "    QUERY_PREDICTION_TIME = f\"\"\"\n",
    "    Select distinct(datetime(timestamp(timestamp_pred,\"Asia/Singapore\"), \"Asia/Singapore\")) as pred_dates, timestamp_pred\n",
    "    from `taxi-compass-lewagon.api_dataset.r_taxi_stand_pred`\n",
    "    where timestamp(timestamp_pred,\"Asia/Singapore\") > current_timestamp()\n",
    "    order by pred_dates asc\n",
    "    \"\"\"\n",
    "    query_job = bigquery_client.query(QUERY_PREDICTION_TIME)\n",
    "    query_df = query_job.to_dataframe()\n",
    "    return query_df\n",
    "\n",
    "query_df = SQL_prediction_date()\n"
   ]
  },
  {
   "cell_type": "code",
   "execution_count": 33,
   "id": "6a56e4e1",
   "metadata": {
    "ExecuteTime": {
     "end_time": "2022-01-24T07:29:42.037417Z",
     "start_time": "2022-01-24T07:29:42.030086Z"
    }
   },
   "outputs": [
    {
     "data": {
      "text/plain": [
       "11"
      ]
     },
     "execution_count": 33,
     "metadata": {},
     "output_type": "execute_result"
    }
   ],
   "source": [
    "# query_df['pred_dates'] > datetime.now()\n",
    "sum(query_df['pred_dates'] > datetime.now())"
   ]
  },
  {
   "cell_type": "markdown",
   "id": "05ee10cb",
   "metadata": {},
   "source": [
    "## Credentials needed to access BigQuery in our project :: Querying taxi stands by taxi count\n"
   ]
  },
  {
   "cell_type": "code",
   "execution_count": 3,
   "id": "c465b615",
   "metadata": {
    "ExecuteTime": {
     "end_time": "2022-01-24T06:50:51.321054Z",
     "start_time": "2022-01-24T06:50:51.306862Z"
    }
   },
   "outputs": [],
   "source": [
    "import os\n",
    "from google.cloud import bigquery\n",
    "bq_key_path = '/Users/alejandroseif/Documents/GCP/BigQuerykey/taxi-compass-lewagon-0548ea55c10c.json'\n",
    "# Here we are relying on local credentials\n",
    "os.environ['GOOGLE_APPLICATION_CREDENTIALS'] = bq_key_path\n",
    "bigquery_client = bigquery.Client(project='taxi-compass-lewagon')"
   ]
  },
  {
   "cell_type": "code",
   "execution_count": 14,
   "id": "341cea28",
   "metadata": {
    "ExecuteTime": {
     "end_time": "2022-01-20T11:55:07.880910Z",
     "start_time": "2022-01-20T11:55:07.856069Z"
    }
   },
   "outputs": [],
   "source": [
    "ts_id = '\"kml_59\"'\n",
    "ts_id_list = (\"kml_1\",\"kml_2\",\"kml_59\")\n",
    "QUERY = f\"\"\"\n",
    "SELECT *\n",
    "FROM `taxi-compass-lewagon.api_dataset.h_taxi_stand_taxi_count`\n",
    "WHERE taxi_count > 0\n",
    "ORDER BY timestamp DESC\n",
    "LIMIT 5000\n",
    "\"\"\"\n",
    "\n",
    "QUERY_TS =f\"\"\"\n",
    "SELECT timestamp, taxi_count\n",
    "FROM `taxi-compass-lewagon.api_dataset.h_taxi_stand_taxi_count`\n",
    "WHERE ts_id = {ts_id}\n",
    "ORDER BY timestamp DESC\n",
    "LIMIT 5000\n",
    "\"\"\"\n",
    "\n",
    "QUERY_TS_LIST =f\"\"\"\n",
    "SELECT timestamp, ts_id, taxi_count\n",
    "FROM `taxi-compass-lewagon.api_dataset.h_taxi_stand_taxi_count`\n",
    "WHERE ts_id in {ts_id_list}\n",
    "ORDER BY timestamp DESC\n",
    "LIMIT {len(ts_id_list)}\n",
    "\"\"\"\n",
    "\n",
    "# SELECT timestamp, taxi_count\n",
    "# WHERE ts_id = {ts_id}"
   ]
  },
  {
   "cell_type": "code",
   "execution_count": 15,
   "id": "da5a8045",
   "metadata": {
    "ExecuteTime": {
     "end_time": "2022-01-20T11:55:12.840309Z",
     "start_time": "2022-01-20T11:55:09.248108Z"
    }
   },
   "outputs": [
    {
     "data": {
      "text/html": [
       "<div>\n",
       "<style scoped>\n",
       "    .dataframe tbody tr th:only-of-type {\n",
       "        vertical-align: middle;\n",
       "    }\n",
       "\n",
       "    .dataframe tbody tr th {\n",
       "        vertical-align: top;\n",
       "    }\n",
       "\n",
       "    .dataframe thead th {\n",
       "        text-align: right;\n",
       "    }\n",
       "</style>\n",
       "<table border=\"1\" class=\"dataframe\">\n",
       "  <thead>\n",
       "    <tr style=\"text-align: right;\">\n",
       "      <th></th>\n",
       "      <th>timestamp</th>\n",
       "      <th>ts_id</th>\n",
       "      <th>taxi_count</th>\n",
       "    </tr>\n",
       "  </thead>\n",
       "  <tbody>\n",
       "    <tr>\n",
       "      <th>0</th>\n",
       "      <td>2022-01-20 19:54:06.022010+00:00</td>\n",
       "      <td>kml_2</td>\n",
       "      <td>3</td>\n",
       "    </tr>\n",
       "    <tr>\n",
       "      <th>1</th>\n",
       "      <td>2022-01-20 19:54:06.022010+00:00</td>\n",
       "      <td>kml_59</td>\n",
       "      <td>3</td>\n",
       "    </tr>\n",
       "    <tr>\n",
       "      <th>2</th>\n",
       "      <td>2022-01-20 19:54:06.022010+00:00</td>\n",
       "      <td>kml_1</td>\n",
       "      <td>4</td>\n",
       "    </tr>\n",
       "  </tbody>\n",
       "</table>\n",
       "</div>"
      ],
      "text/plain": [
       "                         timestamp   ts_id  taxi_count\n",
       "0 2022-01-20 19:54:06.022010+00:00   kml_2           3\n",
       "1 2022-01-20 19:54:06.022010+00:00  kml_59           3\n",
       "2 2022-01-20 19:54:06.022010+00:00   kml_1           4"
      ]
     },
     "execution_count": 15,
     "metadata": {},
     "output_type": "execute_result"
    }
   ],
   "source": [
    "# query_job = bigquery_client.query(QUERY)\n",
    "query_job = bigquery_client.query(QUERY_TS_LIST)\n",
    "\n",
    "query_df = query_job.to_dataframe()\n",
    "query_df"
   ]
  },
  {
   "cell_type": "code",
   "execution_count": 60,
   "id": "25a0771e",
   "metadata": {
    "ExecuteTime": {
     "end_time": "2022-01-20T12:11:02.529268Z",
     "start_time": "2022-01-20T12:10:55.611093Z"
    }
   },
   "outputs": [
    {
     "data": {
      "text/html": [
       "<div>\n",
       "<style scoped>\n",
       "    .dataframe tbody tr th:only-of-type {\n",
       "        vertical-align: middle;\n",
       "    }\n",
       "\n",
       "    .dataframe tbody tr th {\n",
       "        vertical-align: top;\n",
       "    }\n",
       "\n",
       "    .dataframe thead th {\n",
       "        text-align: right;\n",
       "    }\n",
       "</style>\n",
       "<table border=\"1\" class=\"dataframe\">\n",
       "  <thead>\n",
       "    <tr style=\"text-align: right;\">\n",
       "      <th></th>\n",
       "      <th>taxi_st_id</th>\n",
       "      <th>taxi_st_num</th>\n",
       "      <th>taxi_count</th>\n",
       "      <th>taxi_update_time</th>\n",
       "      <th>weather_stn_id</th>\n",
       "      <th>rainfall</th>\n",
       "      <th>weather_update_time</th>\n",
       "      <th>mrt_stn_id</th>\n",
       "      <th>mrt_final_status</th>\n",
       "      <th>mrt_update_time</th>\n",
       "    </tr>\n",
       "  </thead>\n",
       "  <tbody>\n",
       "    <tr>\n",
       "      <th>0</th>\n",
       "      <td>kml_4</td>\n",
       "      <td>4</td>\n",
       "      <td>0</td>\n",
       "      <td>2022-01-20 20:09:00</td>\n",
       "      <td>S118</td>\n",
       "      <td>NaN</td>\n",
       "      <td>NaT</td>\n",
       "      <td>None</td>\n",
       "      <td>NaN</td>\n",
       "      <td>NaT</td>\n",
       "    </tr>\n",
       "    <tr>\n",
       "      <th>1</th>\n",
       "      <td>kml_5</td>\n",
       "      <td>5</td>\n",
       "      <td>0</td>\n",
       "      <td>2022-01-20 20:09:00</td>\n",
       "      <td>S118</td>\n",
       "      <td>NaN</td>\n",
       "      <td>NaT</td>\n",
       "      <td>None</td>\n",
       "      <td>NaN</td>\n",
       "      <td>NaT</td>\n",
       "    </tr>\n",
       "    <tr>\n",
       "      <th>2</th>\n",
       "      <td>kml_6</td>\n",
       "      <td>6</td>\n",
       "      <td>0</td>\n",
       "      <td>2022-01-20 20:09:00</td>\n",
       "      <td>S118</td>\n",
       "      <td>NaN</td>\n",
       "      <td>NaT</td>\n",
       "      <td>None</td>\n",
       "      <td>NaN</td>\n",
       "      <td>NaT</td>\n",
       "    </tr>\n",
       "    <tr>\n",
       "      <th>3</th>\n",
       "      <td>kml_9</td>\n",
       "      <td>9</td>\n",
       "      <td>0</td>\n",
       "      <td>2022-01-20 20:09:00</td>\n",
       "      <td>S220</td>\n",
       "      <td>NaN</td>\n",
       "      <td>NaT</td>\n",
       "      <td>NE15</td>\n",
       "      <td>1.0</td>\n",
       "      <td>2022-01-20 20:09:00</td>\n",
       "    </tr>\n",
       "    <tr>\n",
       "      <th>4</th>\n",
       "      <td>kml_12</td>\n",
       "      <td>12</td>\n",
       "      <td>0</td>\n",
       "      <td>2022-01-20 20:09:00</td>\n",
       "      <td>S211</td>\n",
       "      <td>NaN</td>\n",
       "      <td>NaT</td>\n",
       "      <td>None</td>\n",
       "      <td>NaN</td>\n",
       "      <td>NaT</td>\n",
       "    </tr>\n",
       "    <tr>\n",
       "      <th>...</th>\n",
       "      <td>...</td>\n",
       "      <td>...</td>\n",
       "      <td>...</td>\n",
       "      <td>...</td>\n",
       "      <td>...</td>\n",
       "      <td>...</td>\n",
       "      <td>...</td>\n",
       "      <td>...</td>\n",
       "      <td>...</td>\n",
       "      <td>...</td>\n",
       "    </tr>\n",
       "    <tr>\n",
       "      <th>743292</th>\n",
       "      <td>kml_345</td>\n",
       "      <td>345</td>\n",
       "      <td>8</td>\n",
       "      <td>2022-01-19 12:42:00</td>\n",
       "      <td>S123</td>\n",
       "      <td>NaN</td>\n",
       "      <td>NaT</td>\n",
       "      <td>None</td>\n",
       "      <td>NaN</td>\n",
       "      <td>NaT</td>\n",
       "    </tr>\n",
       "    <tr>\n",
       "      <th>743293</th>\n",
       "      <td>kml_345</td>\n",
       "      <td>345</td>\n",
       "      <td>8</td>\n",
       "      <td>2022-01-19 12:38:00</td>\n",
       "      <td>S123</td>\n",
       "      <td>NaN</td>\n",
       "      <td>NaT</td>\n",
       "      <td>None</td>\n",
       "      <td>NaN</td>\n",
       "      <td>NaT</td>\n",
       "    </tr>\n",
       "    <tr>\n",
       "      <th>743294</th>\n",
       "      <td>kml_345</td>\n",
       "      <td>345</td>\n",
       "      <td>8</td>\n",
       "      <td>2022-01-19 12:37:00</td>\n",
       "      <td>S123</td>\n",
       "      <td>NaN</td>\n",
       "      <td>NaT</td>\n",
       "      <td>None</td>\n",
       "      <td>NaN</td>\n",
       "      <td>NaT</td>\n",
       "    </tr>\n",
       "    <tr>\n",
       "      <th>743295</th>\n",
       "      <td>kml_345</td>\n",
       "      <td>345</td>\n",
       "      <td>8</td>\n",
       "      <td>2022-01-19 20:03:00</td>\n",
       "      <td>S123</td>\n",
       "      <td>NaN</td>\n",
       "      <td>NaT</td>\n",
       "      <td>None</td>\n",
       "      <td>NaN</td>\n",
       "      <td>NaT</td>\n",
       "    </tr>\n",
       "    <tr>\n",
       "      <th>743296</th>\n",
       "      <td>kml_345</td>\n",
       "      <td>345</td>\n",
       "      <td>8</td>\n",
       "      <td>2022-01-19 20:00:00</td>\n",
       "      <td>S123</td>\n",
       "      <td>0.0</td>\n",
       "      <td>2022-01-19 20:00:00</td>\n",
       "      <td>None</td>\n",
       "      <td>NaN</td>\n",
       "      <td>NaT</td>\n",
       "    </tr>\n",
       "  </tbody>\n",
       "</table>\n",
       "<p>743297 rows × 10 columns</p>\n",
       "</div>"
      ],
      "text/plain": [
       "       taxi_st_id taxi_st_num  taxi_count    taxi_update_time weather_stn_id  \\\n",
       "0           kml_4           4           0 2022-01-20 20:09:00           S118   \n",
       "1           kml_5           5           0 2022-01-20 20:09:00           S118   \n",
       "2           kml_6           6           0 2022-01-20 20:09:00           S118   \n",
       "3           kml_9           9           0 2022-01-20 20:09:00           S220   \n",
       "4          kml_12          12           0 2022-01-20 20:09:00           S211   \n",
       "...           ...         ...         ...                 ...            ...   \n",
       "743292    kml_345         345           8 2022-01-19 12:42:00           S123   \n",
       "743293    kml_345         345           8 2022-01-19 12:38:00           S123   \n",
       "743294    kml_345         345           8 2022-01-19 12:37:00           S123   \n",
       "743295    kml_345         345           8 2022-01-19 20:03:00           S123   \n",
       "743296    kml_345         345           8 2022-01-19 20:00:00           S123   \n",
       "\n",
       "        rainfall weather_update_time mrt_stn_id  mrt_final_status  \\\n",
       "0            NaN                 NaT       None               NaN   \n",
       "1            NaN                 NaT       None               NaN   \n",
       "2            NaN                 NaT       None               NaN   \n",
       "3            NaN                 NaT       NE15               1.0   \n",
       "4            NaN                 NaT       None               NaN   \n",
       "...          ...                 ...        ...               ...   \n",
       "743292       NaN                 NaT       None               NaN   \n",
       "743293       NaN                 NaT       None               NaN   \n",
       "743294       NaN                 NaT       None               NaN   \n",
       "743295       NaN                 NaT       None               NaN   \n",
       "743296       0.0 2022-01-19 20:00:00       None               NaN   \n",
       "\n",
       "           mrt_update_time  \n",
       "0                      NaT  \n",
       "1                      NaT  \n",
       "2                      NaT  \n",
       "3      2022-01-20 20:09:00  \n",
       "4                      NaT  \n",
       "...                    ...  \n",
       "743292                 NaT  \n",
       "743293                 NaT  \n",
       "743294                 NaT  \n",
       "743295                 NaT  \n",
       "743296                 NaT  \n",
       "\n",
       "[743297 rows x 10 columns]"
      ]
     },
     "execution_count": 60,
     "metadata": {},
     "output_type": "execute_result"
    }
   ],
   "source": [
    "hours = 24\n",
    "QUERY_FULL = f\"\"\"\n",
    "select x.taxi_st_id,  substr(x.taxi_st_id,5) taxi_st_num,  x.taxi_count, x.taxi_update_time, x.weather_stn_id, c.rainfall, c.weather_update_time, x.mrt_stn_id, e.mrt_final_status, e.mrt_update_time\n",
    "    from (\n",
    "    select a.taxi_st_id, a.taxi_count, a.taxi_update_time, b.weather_stn_id, d.mrt_stn_id\n",
    "    from (\n",
    "    SELECT ts_id as taxi_st_id, taxi_count, cast(timestamp_trunc(timestamp, minute) as datetime) as taxi_update_time\n",
    "    FROM `taxi-compass-lewagon.api_dataset.h_taxi_stand_taxi_count`\n",
    "    WHERE timestamp > TIMESTAMP_SUB(CURRENT_TIMESTAMP() , INTERVAL {hours} hour)\n",
    "    ) a\n",
    "left join\n",
    "    (\n",
    "    select weather_stn_id, taxi_st_id from `taxi-compass-lewagon.api_dataset.c_taxi_stand_weather_stn`\n",
    "    ) b on a.taxi_st_id = b.taxi_st_id\n",
    "left join \n",
    "    (\n",
    "    select taxi_st_id, mrt_stn as mrt_stn_id from `taxi-compass-lewagon.api_dataset.c_mrt_stn_taxi_stand`\n",
    "    where mrt_stn is not null\n",
    "    ) d on a.taxi_st_id = d.taxi_st_id\n",
    "    )x\n",
    "left join \n",
    "    (\n",
    "    select station_id as weather_stn_id, rainfall, datetime_trunc(datetime (update_time), minute) as weather_update_time\n",
    "    from `taxi-compass-lewagon.api_dataset.h_weather_rainfall`\n",
    "    where datetime(update_time) > datetime_SUB(CURRENT_DATETIME() , INTERVAL {hours} hour)\n",
    "    ) c on x.weather_stn_id = c.weather_stn_id and x.taxi_update_time = c.weather_update_time\n",
    "left join\n",
    "    (\n",
    "    select stn_id as mrt_stn_id, final_status as mrt_final_status, datetime_trunc(datetime (update_time), minute) as mrt_update_time \n",
    "    from `taxi-compass-lewagon.api_dataset.h_mrt_status_availability`\n",
    "    where datetime(update_time) > datetime_SUB(CURRENT_DATETIME() , INTERVAL {hours} hour)\n",
    "    ) e on x.taxi_update_time = e.mrt_update_time and x.mrt_stn_id = e.mrt_stn_id\n",
    "\"\"\"\n",
    "#WHERE x.taxi_st_id = 'kml_12'\n",
    "#\"\"\"\n",
    "\n",
    "\n",
    "query_job = bigquery_client.query(QUERY_FULL)\n",
    "\n",
    "query_df = query_job.to_dataframe()\n",
    "query_df"
   ]
  },
  {
   "cell_type": "markdown",
   "id": "8a72fd0a",
   "metadata": {},
   "source": [
    "After querying Big Query, we need to deal with missing values in MRT and weather stations that are deactivated."
   ]
  },
  {
   "cell_type": "code",
   "execution_count": 69,
   "id": "dcaac22a",
   "metadata": {
    "ExecuteTime": {
     "end_time": "2022-01-20T13:38:22.515859Z",
     "start_time": "2022-01-20T13:38:21.581651Z"
    }
   },
   "outputs": [
    {
     "data": {
      "text/html": [
       "<div>\n",
       "<style scoped>\n",
       "    .dataframe tbody tr th:only-of-type {\n",
       "        vertical-align: middle;\n",
       "    }\n",
       "\n",
       "    .dataframe tbody tr th {\n",
       "        vertical-align: top;\n",
       "    }\n",
       "\n",
       "    .dataframe thead th {\n",
       "        text-align: right;\n",
       "    }\n",
       "</style>\n",
       "<table border=\"1\" class=\"dataframe\">\n",
       "  <thead>\n",
       "    <tr style=\"text-align: right;\">\n",
       "      <th></th>\n",
       "      <th>taxi_st_num</th>\n",
       "      <th>taxi_update_time</th>\n",
       "      <th>taxi_count</th>\n",
       "      <th>rainfall</th>\n",
       "      <th>mrt_final_status</th>\n",
       "    </tr>\n",
       "  </thead>\n",
       "  <tbody>\n",
       "    <tr>\n",
       "      <th>0</th>\n",
       "      <td>1</td>\n",
       "      <td>2022-01-19 12:11:00</td>\n",
       "      <td>4</td>\n",
       "      <td>NaN</td>\n",
       "      <td>NaN</td>\n",
       "    </tr>\n",
       "    <tr>\n",
       "      <th>1</th>\n",
       "      <td>1</td>\n",
       "      <td>2022-01-19 12:12:00</td>\n",
       "      <td>5</td>\n",
       "      <td>NaN</td>\n",
       "      <td>NaN</td>\n",
       "    </tr>\n",
       "    <tr>\n",
       "      <th>2</th>\n",
       "      <td>1</td>\n",
       "      <td>2022-01-19 12:13:00</td>\n",
       "      <td>5</td>\n",
       "      <td>NaN</td>\n",
       "      <td>NaN</td>\n",
       "    </tr>\n",
       "    <tr>\n",
       "      <th>3</th>\n",
       "      <td>1</td>\n",
       "      <td>2022-01-19 12:14:00</td>\n",
       "      <td>5</td>\n",
       "      <td>NaN</td>\n",
       "      <td>NaN</td>\n",
       "    </tr>\n",
       "    <tr>\n",
       "      <th>4</th>\n",
       "      <td>1</td>\n",
       "      <td>2022-01-19 12:15:00</td>\n",
       "      <td>6</td>\n",
       "      <td>0.0</td>\n",
       "      <td>NaN</td>\n",
       "    </tr>\n",
       "    <tr>\n",
       "      <th>...</th>\n",
       "      <td>...</td>\n",
       "      <td>...</td>\n",
       "      <td>...</td>\n",
       "      <td>...</td>\n",
       "      <td>...</td>\n",
       "    </tr>\n",
       "    <tr>\n",
       "      <th>743292</th>\n",
       "      <td>350</td>\n",
       "      <td>2022-01-20 20:06:00</td>\n",
       "      <td>1</td>\n",
       "      <td>NaN</td>\n",
       "      <td>1.0</td>\n",
       "    </tr>\n",
       "    <tr>\n",
       "      <th>743293</th>\n",
       "      <td>350</td>\n",
       "      <td>2022-01-20 20:07:00</td>\n",
       "      <td>0</td>\n",
       "      <td>NaN</td>\n",
       "      <td>1.0</td>\n",
       "    </tr>\n",
       "    <tr>\n",
       "      <th>743294</th>\n",
       "      <td>350</td>\n",
       "      <td>2022-01-20 20:08:00</td>\n",
       "      <td>1</td>\n",
       "      <td>NaN</td>\n",
       "      <td>1.0</td>\n",
       "    </tr>\n",
       "    <tr>\n",
       "      <th>743295</th>\n",
       "      <td>350</td>\n",
       "      <td>2022-01-20 20:09:00</td>\n",
       "      <td>0</td>\n",
       "      <td>NaN</td>\n",
       "      <td>1.0</td>\n",
       "    </tr>\n",
       "    <tr>\n",
       "      <th>743296</th>\n",
       "      <td>350</td>\n",
       "      <td>2022-01-20 20:10:00</td>\n",
       "      <td>0</td>\n",
       "      <td>NaN</td>\n",
       "      <td>1.0</td>\n",
       "    </tr>\n",
       "  </tbody>\n",
       "</table>\n",
       "<p>743297 rows × 5 columns</p>\n",
       "</div>"
      ],
      "text/plain": [
       "        taxi_st_num    taxi_update_time  taxi_count  rainfall  \\\n",
       "0                 1 2022-01-19 12:11:00           4       NaN   \n",
       "1                 1 2022-01-19 12:12:00           5       NaN   \n",
       "2                 1 2022-01-19 12:13:00           5       NaN   \n",
       "3                 1 2022-01-19 12:14:00           5       NaN   \n",
       "4                 1 2022-01-19 12:15:00           6       0.0   \n",
       "...             ...                 ...         ...       ...   \n",
       "743292          350 2022-01-20 20:06:00           1       NaN   \n",
       "743293          350 2022-01-20 20:07:00           0       NaN   \n",
       "743294          350 2022-01-20 20:08:00           1       NaN   \n",
       "743295          350 2022-01-20 20:09:00           0       NaN   \n",
       "743296          350 2022-01-20 20:10:00           0       NaN   \n",
       "\n",
       "        mrt_final_status  \n",
       "0                    NaN  \n",
       "1                    NaN  \n",
       "2                    NaN  \n",
       "3                    NaN  \n",
       "4                    NaN  \n",
       "...                  ...  \n",
       "743292               1.0  \n",
       "743293               1.0  \n",
       "743294               1.0  \n",
       "743295               1.0  \n",
       "743296               1.0  \n",
       "\n",
       "[743297 rows x 5 columns]"
      ]
     },
     "execution_count": 69,
     "metadata": {},
     "output_type": "execute_result"
    }
   ],
   "source": [
    "# We make a copy of the dataframe resulting from the query\n",
    "df = query_df[[\"taxi_st_num\",\"taxi_update_time\",\"taxi_count\",\"rainfall\",\"mrt_final_status\"]].copy()\n",
    "# Treat taxi station id as integers\n",
    "df[\"taxi_st_num\"] = df[\"taxi_st_num\"].astype('int64')\n",
    "# Sort dataframe by taxi station id and date time\n",
    "df = df.sort_values(by=[\"taxi_st_num\", \"taxi_update_time\"],ascending=True).reset_index(drop=True)\n",
    "df"
   ]
  },
  {
   "cell_type": "code",
   "execution_count": 68,
   "id": "fbf6fc37",
   "metadata": {
    "ExecuteTime": {
     "end_time": "2022-01-20T13:38:19.529395Z",
     "start_time": "2022-01-20T13:38:19.307581Z"
    }
   },
   "outputs": [
    {
     "data": {
      "text/html": [
       "<div>\n",
       "<style scoped>\n",
       "    .dataframe tbody tr th:only-of-type {\n",
       "        vertical-align: middle;\n",
       "    }\n",
       "\n",
       "    .dataframe tbody tr th {\n",
       "        vertical-align: top;\n",
       "    }\n",
       "\n",
       "    .dataframe thead th {\n",
       "        text-align: right;\n",
       "    }\n",
       "</style>\n",
       "<table border=\"1\" class=\"dataframe\">\n",
       "  <thead>\n",
       "    <tr style=\"text-align: right;\">\n",
       "      <th></th>\n",
       "      <th>taxi_st_num</th>\n",
       "      <th>taxi_update_time</th>\n",
       "      <th>taxi_count</th>\n",
       "      <th>rainfall</th>\n",
       "      <th>mrt_final_status</th>\n",
       "    </tr>\n",
       "  </thead>\n",
       "  <tbody>\n",
       "    <tr>\n",
       "      <th>0</th>\n",
       "      <td>1</td>\n",
       "      <td>2022-01-19 12:11:00</td>\n",
       "      <td>4</td>\n",
       "      <td>0.0</td>\n",
       "      <td>0.0</td>\n",
       "    </tr>\n",
       "    <tr>\n",
       "      <th>1</th>\n",
       "      <td>1</td>\n",
       "      <td>2022-01-19 12:12:00</td>\n",
       "      <td>5</td>\n",
       "      <td>0.0</td>\n",
       "      <td>0.0</td>\n",
       "    </tr>\n",
       "    <tr>\n",
       "      <th>2</th>\n",
       "      <td>1</td>\n",
       "      <td>2022-01-19 12:13:00</td>\n",
       "      <td>5</td>\n",
       "      <td>0.0</td>\n",
       "      <td>0.0</td>\n",
       "    </tr>\n",
       "    <tr>\n",
       "      <th>3</th>\n",
       "      <td>1</td>\n",
       "      <td>2022-01-19 12:14:00</td>\n",
       "      <td>5</td>\n",
       "      <td>0.0</td>\n",
       "      <td>0.0</td>\n",
       "    </tr>\n",
       "    <tr>\n",
       "      <th>4</th>\n",
       "      <td>1</td>\n",
       "      <td>2022-01-19 12:15:00</td>\n",
       "      <td>6</td>\n",
       "      <td>0.0</td>\n",
       "      <td>0.0</td>\n",
       "    </tr>\n",
       "    <tr>\n",
       "      <th>...</th>\n",
       "      <td>...</td>\n",
       "      <td>...</td>\n",
       "      <td>...</td>\n",
       "      <td>...</td>\n",
       "      <td>...</td>\n",
       "    </tr>\n",
       "    <tr>\n",
       "      <th>743292</th>\n",
       "      <td>350</td>\n",
       "      <td>2022-01-20 20:06:00</td>\n",
       "      <td>1</td>\n",
       "      <td>0.0</td>\n",
       "      <td>1.0</td>\n",
       "    </tr>\n",
       "    <tr>\n",
       "      <th>743293</th>\n",
       "      <td>350</td>\n",
       "      <td>2022-01-20 20:07:00</td>\n",
       "      <td>0</td>\n",
       "      <td>0.0</td>\n",
       "      <td>1.0</td>\n",
       "    </tr>\n",
       "    <tr>\n",
       "      <th>743294</th>\n",
       "      <td>350</td>\n",
       "      <td>2022-01-20 20:08:00</td>\n",
       "      <td>1</td>\n",
       "      <td>0.0</td>\n",
       "      <td>1.0</td>\n",
       "    </tr>\n",
       "    <tr>\n",
       "      <th>743295</th>\n",
       "      <td>350</td>\n",
       "      <td>2022-01-20 20:09:00</td>\n",
       "      <td>0</td>\n",
       "      <td>0.0</td>\n",
       "      <td>1.0</td>\n",
       "    </tr>\n",
       "    <tr>\n",
       "      <th>743296</th>\n",
       "      <td>350</td>\n",
       "      <td>2022-01-20 20:10:00</td>\n",
       "      <td>0</td>\n",
       "      <td>0.0</td>\n",
       "      <td>1.0</td>\n",
       "    </tr>\n",
       "  </tbody>\n",
       "</table>\n",
       "<p>743297 rows × 5 columns</p>\n",
       "</div>"
      ],
      "text/plain": [
       "        taxi_st_num    taxi_update_time  taxi_count  rainfall  \\\n",
       "0                 1 2022-01-19 12:11:00           4       0.0   \n",
       "1                 1 2022-01-19 12:12:00           5       0.0   \n",
       "2                 1 2022-01-19 12:13:00           5       0.0   \n",
       "3                 1 2022-01-19 12:14:00           5       0.0   \n",
       "4                 1 2022-01-19 12:15:00           6       0.0   \n",
       "...             ...                 ...         ...       ...   \n",
       "743292          350 2022-01-20 20:06:00           1       0.0   \n",
       "743293          350 2022-01-20 20:07:00           0       0.0   \n",
       "743294          350 2022-01-20 20:08:00           1       0.0   \n",
       "743295          350 2022-01-20 20:09:00           0       0.0   \n",
       "743296          350 2022-01-20 20:10:00           0       0.0   \n",
       "\n",
       "        mrt_final_status  \n",
       "0                    0.0  \n",
       "1                    0.0  \n",
       "2                    0.0  \n",
       "3                    0.0  \n",
       "4                    0.0  \n",
       "...                  ...  \n",
       "743292               1.0  \n",
       "743293               1.0  \n",
       "743294               1.0  \n",
       "743295               1.0  \n",
       "743296               1.0  \n",
       "\n",
       "[743297 rows x 5 columns]"
      ]
     },
     "execution_count": 68,
     "metadata": {},
     "output_type": "execute_result"
    }
   ],
   "source": [
    "# Whenever rainfall data is missing, it will be taken as 0\n",
    "# Some Taxi Stands are too far from MRT stations so they have no associated station. \n",
    "# These will be treated as mrt never available, hence mrt_final_status = 0.\n",
    "df[[\"rainfall\"]] = df[[\"rainfall\"]].fillna(df.groupby(['taxi_st_num'])[[\"rainfall\"]].ffill())\n",
    "df[[\"mrt_final_status\",\"rainfall\"]] = df[[\"mrt_final_status\",\"rainfall\"]].fillna(value=0)\n",
    "df"
   ]
  },
  {
   "cell_type": "code",
   "execution_count": 59,
   "id": "c7341f79",
   "metadata": {
    "ExecuteTime": {
     "end_time": "2022-01-20T12:10:00.988294Z",
     "start_time": "2022-01-20T12:09:59.892485Z"
    }
   },
   "outputs": [
    {
     "data": {
      "text/plain": [
       "<AxesSubplot:xlabel='Date Time', ylabel='Taxi Count'>"
      ]
     },
     "execution_count": 59,
     "metadata": {},
     "output_type": "execute_result"
    },
    {
     "data": {
      "image/png": "[encoded data removed]",
      "text/plain": [
       "<Figure size 1152x720 with 1 Axes>"
      ]
     },
     "metadata": {
      "needs_background": "light"
     },
     "output_type": "display_data"
    }
   ],
   "source": [
    "df[df['taxi_st_num']==1][['taxi_update_time','taxi_count']].plot(x='taxi_update_time',y='taxi_count',\n",
    "                                                                 figsize=(16,10), xlabel='Date Time',\n",
    "                                                                ylabel='Taxi Count',fontsize=14, legend=False, \n",
    "                                                                      color='brown')"
   ]
  },
  {
   "cell_type": "markdown",
   "id": "18bd79c9",
   "metadata": {
    "heading_collapsed": true
   },
   "source": [
    "## Prepare data for ML manually"
   ]
  },
  {
   "cell_type": "code",
   "execution_count": 39,
   "id": "586effe6",
   "metadata": {
    "ExecuteTime": {
     "end_time": "2022-01-18T01:58:08.164728Z",
     "start_time": "2022-01-18T01:58:08.135090Z"
    },
    "hidden": true
   },
   "outputs": [
    {
     "data": {
      "text/html": [
       "<div>\n",
       "<style scoped>\n",
       "    .dataframe tbody tr th:only-of-type {\n",
       "        vertical-align: middle;\n",
       "    }\n",
       "\n",
       "    .dataframe tbody tr th {\n",
       "        vertical-align: top;\n",
       "    }\n",
       "\n",
       "    .dataframe thead th {\n",
       "        text-align: right;\n",
       "    }\n",
       "</style>\n",
       "<table border=\"1\" class=\"dataframe\">\n",
       "  <thead>\n",
       "    <tr style=\"text-align: right;\">\n",
       "      <th></th>\n",
       "      <th>taxi_st_num</th>\n",
       "      <th>taxi_update_time</th>\n",
       "      <th>taxi_count</th>\n",
       "      <th>rainfall</th>\n",
       "      <th>mrt_final_status</th>\n",
       "    </tr>\n",
       "  </thead>\n",
       "  <tbody>\n",
       "    <tr>\n",
       "      <th>0</th>\n",
       "      <td>1</td>\n",
       "      <td>2022-01-16 01:58:00</td>\n",
       "      <td>0</td>\n",
       "      <td>0.0</td>\n",
       "      <td>0.0</td>\n",
       "    </tr>\n",
       "    <tr>\n",
       "      <th>1</th>\n",
       "      <td>1</td>\n",
       "      <td>2022-01-16 01:59:00</td>\n",
       "      <td>0</td>\n",
       "      <td>0.0</td>\n",
       "      <td>0.0</td>\n",
       "    </tr>\n",
       "    <tr>\n",
       "      <th>2</th>\n",
       "      <td>1</td>\n",
       "      <td>2022-01-16 02:00:00</td>\n",
       "      <td>0</td>\n",
       "      <td>0.0</td>\n",
       "      <td>0.0</td>\n",
       "    </tr>\n",
       "    <tr>\n",
       "      <th>3</th>\n",
       "      <td>1</td>\n",
       "      <td>2022-01-16 02:01:00</td>\n",
       "      <td>1</td>\n",
       "      <td>0.0</td>\n",
       "      <td>0.0</td>\n",
       "    </tr>\n",
       "    <tr>\n",
       "      <th>4</th>\n",
       "      <td>1</td>\n",
       "      <td>2022-01-16 02:02:00</td>\n",
       "      <td>1</td>\n",
       "      <td>0.0</td>\n",
       "      <td>0.0</td>\n",
       "    </tr>\n",
       "  </tbody>\n",
       "</table>\n",
       "</div>"
      ],
      "text/plain": [
       "   taxi_st_num    taxi_update_time  taxi_count  rainfall  mrt_final_status\n",
       "0            1 2022-01-16 01:58:00           0       0.0               0.0\n",
       "1            1 2022-01-16 01:59:00           0       0.0               0.0\n",
       "2            1 2022-01-16 02:00:00           0       0.0               0.0\n",
       "3            1 2022-01-16 02:01:00           1       0.0               0.0\n",
       "4            1 2022-01-16 02:02:00           1       0.0               0.0"
      ]
     },
     "execution_count": 39,
     "metadata": {},
     "output_type": "execute_result"
    }
   ],
   "source": [
    "# Keep only one taxi stand\n",
    "df = df[df['taxi_st_num']==1]\n",
    "df.head()"
   ]
  },
  {
   "cell_type": "code",
   "execution_count": 9,
   "id": "d8aa9c2a",
   "metadata": {
    "ExecuteTime": {
     "end_time": "2022-01-17T10:48:28.620735Z",
     "start_time": "2022-01-17T10:48:28.557497Z"
    },
    "hidden": true
   },
   "outputs": [
    {
     "name": "stderr",
     "output_type": "stream",
     "text": [
      "/var/folders/40/h7ddhmd510jb0p4hf9b4n8fh0000gs/T/ipykernel_63100/3006510044.py:1: SettingWithCopyWarning: \n",
      "A value is trying to be set on a copy of a slice from a DataFrame.\n",
      "Try using .loc[row_indexer,col_indexer] = value instead\n",
      "\n",
      "See the caveats in the documentation: https://pandas.pydata.org/pandas-docs/stable/user_guide/indexing.html#returning-a-view-versus-a-copy\n",
      "  df['weekday']=df['taxi_update_time'].apply(lambda x: x.weekday())\n"
     ]
    },
    {
     "data": {
      "text/html": [
       "<div>\n",
       "<style scoped>\n",
       "    .dataframe tbody tr th:only-of-type {\n",
       "        vertical-align: middle;\n",
       "    }\n",
       "\n",
       "    .dataframe tbody tr th {\n",
       "        vertical-align: top;\n",
       "    }\n",
       "\n",
       "    .dataframe thead th {\n",
       "        text-align: right;\n",
       "    }\n",
       "</style>\n",
       "<table border=\"1\" class=\"dataframe\">\n",
       "  <thead>\n",
       "    <tr style=\"text-align: right;\">\n",
       "      <th></th>\n",
       "      <th>taxi_st_num</th>\n",
       "      <th>taxi_update_time</th>\n",
       "      <th>taxi_count</th>\n",
       "      <th>rainfall</th>\n",
       "      <th>mrt_final_status</th>\n",
       "      <th>weekday</th>\n",
       "    </tr>\n",
       "  </thead>\n",
       "  <tbody>\n",
       "    <tr>\n",
       "      <th>0</th>\n",
       "      <td>1</td>\n",
       "      <td>2022-01-15 10:49:00</td>\n",
       "      <td>10</td>\n",
       "      <td>0.0</td>\n",
       "      <td>0.0</td>\n",
       "      <td>5</td>\n",
       "    </tr>\n",
       "    <tr>\n",
       "      <th>1</th>\n",
       "      <td>1</td>\n",
       "      <td>2022-01-15 10:50:00</td>\n",
       "      <td>7</td>\n",
       "      <td>0.0</td>\n",
       "      <td>0.0</td>\n",
       "      <td>5</td>\n",
       "    </tr>\n",
       "    <tr>\n",
       "      <th>2</th>\n",
       "      <td>1</td>\n",
       "      <td>2022-01-15 10:51:00</td>\n",
       "      <td>9</td>\n",
       "      <td>0.0</td>\n",
       "      <td>0.0</td>\n",
       "      <td>5</td>\n",
       "    </tr>\n",
       "    <tr>\n",
       "      <th>3</th>\n",
       "      <td>1</td>\n",
       "      <td>2022-01-15 10:52:00</td>\n",
       "      <td>5</td>\n",
       "      <td>0.0</td>\n",
       "      <td>0.0</td>\n",
       "      <td>5</td>\n",
       "    </tr>\n",
       "    <tr>\n",
       "      <th>4</th>\n",
       "      <td>1</td>\n",
       "      <td>2022-01-15 10:53:00</td>\n",
       "      <td>7</td>\n",
       "      <td>0.0</td>\n",
       "      <td>0.0</td>\n",
       "      <td>5</td>\n",
       "    </tr>\n",
       "  </tbody>\n",
       "</table>\n",
       "</div>"
      ],
      "text/plain": [
       "   taxi_st_num    taxi_update_time  taxi_count  rainfall  mrt_final_status  \\\n",
       "0            1 2022-01-15 10:49:00          10       0.0               0.0   \n",
       "1            1 2022-01-15 10:50:00           7       0.0               0.0   \n",
       "2            1 2022-01-15 10:51:00           9       0.0               0.0   \n",
       "3            1 2022-01-15 10:52:00           5       0.0               0.0   \n",
       "4            1 2022-01-15 10:53:00           7       0.0               0.0   \n",
       "\n",
       "   weekday  \n",
       "0        5  \n",
       "1        5  \n",
       "2        5  \n",
       "3        5  \n",
       "4        5  "
      ]
     },
     "execution_count": 9,
     "metadata": {},
     "output_type": "execute_result"
    }
   ],
   "source": [
    "df['weekday']=df['taxi_update_time'].apply(lambda x: x.weekday())\n",
    "df.head()"
   ]
  },
  {
   "cell_type": "code",
   "execution_count": 10,
   "id": "0c11b4cc",
   "metadata": {
    "ExecuteTime": {
     "end_time": "2022-01-17T10:48:28.650962Z",
     "start_time": "2022-01-17T10:48:28.626485Z"
    },
    "hidden": true
   },
   "outputs": [
    {
     "name": "stderr",
     "output_type": "stream",
     "text": [
      "/var/folders/40/h7ddhmd510jb0p4hf9b4n8fh0000gs/T/ipykernel_63100/2240160664.py:1: SettingWithCopyWarning: \n",
      "A value is trying to be set on a copy of a slice from a DataFrame.\n",
      "Try using .loc[row_indexer,col_indexer] = value instead\n",
      "\n",
      "See the caveats in the documentation: https://pandas.pydata.org/pandas-docs/stable/user_guide/indexing.html#returning-a-view-versus-a-copy\n",
      "  df['weekend']=df['weekday']>4\n"
     ]
    },
    {
     "data": {
      "text/html": [
       "<div>\n",
       "<style scoped>\n",
       "    .dataframe tbody tr th:only-of-type {\n",
       "        vertical-align: middle;\n",
       "    }\n",
       "\n",
       "    .dataframe tbody tr th {\n",
       "        vertical-align: top;\n",
       "    }\n",
       "\n",
       "    .dataframe thead th {\n",
       "        text-align: right;\n",
       "    }\n",
       "</style>\n",
       "<table border=\"1\" class=\"dataframe\">\n",
       "  <thead>\n",
       "    <tr style=\"text-align: right;\">\n",
       "      <th></th>\n",
       "      <th>taxi_st_num</th>\n",
       "      <th>taxi_update_time</th>\n",
       "      <th>taxi_count</th>\n",
       "      <th>rainfall</th>\n",
       "      <th>mrt_final_status</th>\n",
       "      <th>weekday</th>\n",
       "      <th>weekend</th>\n",
       "    </tr>\n",
       "  </thead>\n",
       "  <tbody>\n",
       "    <tr>\n",
       "      <th>0</th>\n",
       "      <td>1</td>\n",
       "      <td>2022-01-15 10:49:00</td>\n",
       "      <td>10</td>\n",
       "      <td>0.0</td>\n",
       "      <td>0.0</td>\n",
       "      <td>5</td>\n",
       "      <td>True</td>\n",
       "    </tr>\n",
       "    <tr>\n",
       "      <th>1</th>\n",
       "      <td>1</td>\n",
       "      <td>2022-01-15 10:50:00</td>\n",
       "      <td>7</td>\n",
       "      <td>0.0</td>\n",
       "      <td>0.0</td>\n",
       "      <td>5</td>\n",
       "      <td>True</td>\n",
       "    </tr>\n",
       "    <tr>\n",
       "      <th>2</th>\n",
       "      <td>1</td>\n",
       "      <td>2022-01-15 10:51:00</td>\n",
       "      <td>9</td>\n",
       "      <td>0.0</td>\n",
       "      <td>0.0</td>\n",
       "      <td>5</td>\n",
       "      <td>True</td>\n",
       "    </tr>\n",
       "    <tr>\n",
       "      <th>3</th>\n",
       "      <td>1</td>\n",
       "      <td>2022-01-15 10:52:00</td>\n",
       "      <td>5</td>\n",
       "      <td>0.0</td>\n",
       "      <td>0.0</td>\n",
       "      <td>5</td>\n",
       "      <td>True</td>\n",
       "    </tr>\n",
       "    <tr>\n",
       "      <th>4</th>\n",
       "      <td>1</td>\n",
       "      <td>2022-01-15 10:53:00</td>\n",
       "      <td>7</td>\n",
       "      <td>0.0</td>\n",
       "      <td>0.0</td>\n",
       "      <td>5</td>\n",
       "      <td>True</td>\n",
       "    </tr>\n",
       "  </tbody>\n",
       "</table>\n",
       "</div>"
      ],
      "text/plain": [
       "   taxi_st_num    taxi_update_time  taxi_count  rainfall  mrt_final_status  \\\n",
       "0            1 2022-01-15 10:49:00          10       0.0               0.0   \n",
       "1            1 2022-01-15 10:50:00           7       0.0               0.0   \n",
       "2            1 2022-01-15 10:51:00           9       0.0               0.0   \n",
       "3            1 2022-01-15 10:52:00           5       0.0               0.0   \n",
       "4            1 2022-01-15 10:53:00           7       0.0               0.0   \n",
       "\n",
       "   weekday  weekend  \n",
       "0        5     True  \n",
       "1        5     True  \n",
       "2        5     True  \n",
       "3        5     True  \n",
       "4        5     True  "
      ]
     },
     "execution_count": 10,
     "metadata": {},
     "output_type": "execute_result"
    }
   ],
   "source": [
    "df['weekend']=df['weekday']>4\n",
    "df.head()"
   ]
  },
  {
   "cell_type": "code",
   "execution_count": 11,
   "id": "bfafa82a",
   "metadata": {
    "ExecuteTime": {
     "end_time": "2022-01-17T10:48:28.793417Z",
     "start_time": "2022-01-17T10:48:28.657439Z"
    },
    "hidden": true
   },
   "outputs": [
    {
     "name": "stderr",
     "output_type": "stream",
     "text": [
      "/var/folders/40/h7ddhmd510jb0p4hf9b4n8fh0000gs/T/ipykernel_63100/1426575596.py:1: SettingWithCopyWarning: \n",
      "A value is trying to be set on a copy of a slice from a DataFrame.\n",
      "Try using .loc[row_indexer,col_indexer] = value instead\n",
      "\n",
      "See the caveats in the documentation: https://pandas.pydata.org/pandas-docs/stable/user_guide/indexing.html#returning-a-view-versus-a-copy\n",
      "  df['hour_cosine'] =np.cos(df['taxi_update_time'].apply(lambda x: x.hour)*2 * np.pi / 23)\n",
      "/var/folders/40/h7ddhmd510jb0p4hf9b4n8fh0000gs/T/ipykernel_63100/1426575596.py:2: SettingWithCopyWarning: \n",
      "A value is trying to be set on a copy of a slice from a DataFrame.\n",
      "Try using .loc[row_indexer,col_indexer] = value instead\n",
      "\n",
      "See the caveats in the documentation: https://pandas.pydata.org/pandas-docs/stable/user_guide/indexing.html#returning-a-view-versus-a-copy\n",
      "  df['hour_sine'] =np.sin(df['taxi_update_time'].apply(lambda x: x.hour)*2 * np.pi / 23)\n",
      "/var/folders/40/h7ddhmd510jb0p4hf9b4n8fh0000gs/T/ipykernel_63100/1426575596.py:4: SettingWithCopyWarning: \n",
      "A value is trying to be set on a copy of a slice from a DataFrame.\n",
      "Try using .loc[row_indexer,col_indexer] = value instead\n",
      "\n",
      "See the caveats in the documentation: https://pandas.pydata.org/pandas-docs/stable/user_guide/indexing.html#returning-a-view-versus-a-copy\n",
      "  df['minute_cosine'] =np.cos(df['taxi_update_time'].apply(lambda x: x.minute)*2 * np.pi / 59)\n",
      "/var/folders/40/h7ddhmd510jb0p4hf9b4n8fh0000gs/T/ipykernel_63100/1426575596.py:5: SettingWithCopyWarning: \n",
      "A value is trying to be set on a copy of a slice from a DataFrame.\n",
      "Try using .loc[row_indexer,col_indexer] = value instead\n",
      "\n",
      "See the caveats in the documentation: https://pandas.pydata.org/pandas-docs/stable/user_guide/indexing.html#returning-a-view-versus-a-copy\n",
      "  df['minute_sine'] =np.sin(df['taxi_update_time'].apply(lambda x: x.minute)*2 * np.pi / 59)\n"
     ]
    },
    {
     "data": {
      "text/html": [
       "<div>\n",
       "<style scoped>\n",
       "    .dataframe tbody tr th:only-of-type {\n",
       "        vertical-align: middle;\n",
       "    }\n",
       "\n",
       "    .dataframe tbody tr th {\n",
       "        vertical-align: top;\n",
       "    }\n",
       "\n",
       "    .dataframe thead th {\n",
       "        text-align: right;\n",
       "    }\n",
       "</style>\n",
       "<table border=\"1\" class=\"dataframe\">\n",
       "  <thead>\n",
       "    <tr style=\"text-align: right;\">\n",
       "      <th></th>\n",
       "      <th>taxi_st_num</th>\n",
       "      <th>taxi_update_time</th>\n",
       "      <th>taxi_count</th>\n",
       "      <th>rainfall</th>\n",
       "      <th>mrt_final_status</th>\n",
       "      <th>weekday</th>\n",
       "      <th>weekend</th>\n",
       "      <th>hour_cosine</th>\n",
       "      <th>hour_sine</th>\n",
       "      <th>minute_cosine</th>\n",
       "      <th>minute_sine</th>\n",
       "    </tr>\n",
       "  </thead>\n",
       "  <tbody>\n",
       "    <tr>\n",
       "      <th>0</th>\n",
       "      <td>1</td>\n",
       "      <td>2022-01-15 10:49:00</td>\n",
       "      <td>10</td>\n",
       "      <td>0.0</td>\n",
       "      <td>0.0</td>\n",
       "      <td>5</td>\n",
       "      <td>True</td>\n",
       "      <td>-0.917211</td>\n",
       "      <td>0.398401</td>\n",
       "      <td>0.484551</td>\n",
       "      <td>-0.874763</td>\n",
       "    </tr>\n",
       "    <tr>\n",
       "      <th>1</th>\n",
       "      <td>1</td>\n",
       "      <td>2022-01-15 10:50:00</td>\n",
       "      <td>7</td>\n",
       "      <td>0.0</td>\n",
       "      <td>0.0</td>\n",
       "      <td>5</td>\n",
       "      <td>True</td>\n",
       "      <td>-0.917211</td>\n",
       "      <td>0.398401</td>\n",
       "      <td>0.574787</td>\n",
       "      <td>-0.818303</td>\n",
       "    </tr>\n",
       "    <tr>\n",
       "      <th>2</th>\n",
       "      <td>1</td>\n",
       "      <td>2022-01-15 10:51:00</td>\n",
       "      <td>9</td>\n",
       "      <td>0.0</td>\n",
       "      <td>0.0</td>\n",
       "      <td>5</td>\n",
       "      <td>True</td>\n",
       "      <td>-0.917211</td>\n",
       "      <td>0.398401</td>\n",
       "      <td>0.658511</td>\n",
       "      <td>-0.752571</td>\n",
       "    </tr>\n",
       "    <tr>\n",
       "      <th>3</th>\n",
       "      <td>1</td>\n",
       "      <td>2022-01-15 10:52:00</td>\n",
       "      <td>5</td>\n",
       "      <td>0.0</td>\n",
       "      <td>0.0</td>\n",
       "      <td>5</td>\n",
       "      <td>True</td>\n",
       "      <td>-0.917211</td>\n",
       "      <td>0.398401</td>\n",
       "      <td>0.734774</td>\n",
       "      <td>-0.678312</td>\n",
       "    </tr>\n",
       "    <tr>\n",
       "      <th>4</th>\n",
       "      <td>1</td>\n",
       "      <td>2022-01-15 10:53:00</td>\n",
       "      <td>7</td>\n",
       "      <td>0.0</td>\n",
       "      <td>0.0</td>\n",
       "      <td>5</td>\n",
       "      <td>True</td>\n",
       "      <td>-0.917211</td>\n",
       "      <td>0.398401</td>\n",
       "      <td>0.802712</td>\n",
       "      <td>-0.596367</td>\n",
       "    </tr>\n",
       "  </tbody>\n",
       "</table>\n",
       "</div>"
      ],
      "text/plain": [
       "   taxi_st_num    taxi_update_time  taxi_count  rainfall  mrt_final_status  \\\n",
       "0            1 2022-01-15 10:49:00          10       0.0               0.0   \n",
       "1            1 2022-01-15 10:50:00           7       0.0               0.0   \n",
       "2            1 2022-01-15 10:51:00           9       0.0               0.0   \n",
       "3            1 2022-01-15 10:52:00           5       0.0               0.0   \n",
       "4            1 2022-01-15 10:53:00           7       0.0               0.0   \n",
       "\n",
       "   weekday  weekend  hour_cosine  hour_sine  minute_cosine  minute_sine  \n",
       "0        5     True    -0.917211   0.398401       0.484551    -0.874763  \n",
       "1        5     True    -0.917211   0.398401       0.574787    -0.818303  \n",
       "2        5     True    -0.917211   0.398401       0.658511    -0.752571  \n",
       "3        5     True    -0.917211   0.398401       0.734774    -0.678312  \n",
       "4        5     True    -0.917211   0.398401       0.802712    -0.596367  "
      ]
     },
     "execution_count": 11,
     "metadata": {},
     "output_type": "execute_result"
    }
   ],
   "source": [
    "df['hour_cosine'] =np.cos(df['taxi_update_time'].apply(lambda x: x.hour)*2 * np.pi / 23)\n",
    "df['hour_sine'] =np.sin(df['taxi_update_time'].apply(lambda x: x.hour)*2 * np.pi / 23)\n",
    "\n",
    "df['minute_cosine'] =np.cos(df['taxi_update_time'].apply(lambda x: x.minute)*2 * np.pi / 59)\n",
    "df['minute_sine'] =np.sin(df['taxi_update_time'].apply(lambda x: x.minute)*2 * np.pi / 59)\n",
    "\n",
    "df.head()"
   ]
  },
  {
   "cell_type": "markdown",
   "id": "c9000dfc",
   "metadata": {
    "ExecuteTime": {
     "end_time": "2022-01-17T10:31:43.552341Z",
     "start_time": "2022-01-17T10:31:43.518122Z"
    }
   },
   "source": [
    "## Machine learning data preparation"
   ]
  },
  {
   "cell_type": "code",
   "execution_count": 12,
   "id": "0c27647f",
   "metadata": {
    "ExecuteTime": {
     "end_time": "2022-01-17T10:48:28.819286Z",
     "start_time": "2022-01-17T10:48:28.802424Z"
    }
   },
   "outputs": [],
   "source": [
    "X = df.drop(columns=['taxi_update_time','taxi_st_num','taxi_count'])\n",
    "y = df['taxi_count']"
   ]
  },
  {
   "cell_type": "markdown",
   "id": "aeed9fae",
   "metadata": {
    "ExecuteTime": {
     "end_time": "2022-01-17T09:34:07.651385Z",
     "start_time": "2022-01-17T09:34:07.643318Z"
    }
   },
   "source": [
    "## Machine learning Pipeline"
   ]
  },
  {
   "cell_type": "code",
   "execution_count": 18,
   "id": "e7e64d47",
   "metadata": {
    "ExecuteTime": {
     "end_time": "2022-01-17T14:51:38.649184Z",
     "start_time": "2022-01-17T14:51:38.590096Z"
    }
   },
   "outputs": [
    {
     "data": {
      "text/html": [
       "<style>#sk-c4b79206-2269-43c7-b505-3f14d01c210a {color: black;background-color: white;}#sk-c4b79206-2269-43c7-b505-3f14d01c210a pre{padding: 0;}#sk-c4b79206-2269-43c7-b505-3f14d01c210a div.sk-toggleable {background-color: white;}#sk-c4b79206-2269-43c7-b505-3f14d01c210a label.sk-toggleable__label {cursor: pointer;display: block;width: 100%;margin-bottom: 0;padding: 0.3em;box-sizing: border-box;text-align: center;}#sk-c4b79206-2269-43c7-b505-3f14d01c210a label.sk-toggleable__label-arrow:before {content: \"▸\";float: left;margin-right: 0.25em;color: #696969;}#sk-c4b79206-2269-43c7-b505-3f14d01c210a label.sk-toggleable__label-arrow:hover:before {color: black;}#sk-c4b79206-2269-43c7-b505-3f14d01c210a div.sk-estimator:hover label.sk-toggleable__label-arrow:before {color: black;}#sk-c4b79206-2269-43c7-b505-3f14d01c210a div.sk-toggleable__content {max-height: 0;max-width: 0;overflow: hidden;text-align: left;background-color: #f0f8ff;}#sk-c4b79206-2269-43c7-b505-3f14d01c210a div.sk-toggleable__content pre {margin: 0.2em;color: black;border-radius: 0.25em;background-color: #f0f8ff;}#sk-c4b79206-2269-43c7-b505-3f14d01c210a input.sk-toggleable__control:checked~div.sk-toggleable__content {max-height: 200px;max-width: 100%;overflow: auto;}#sk-c4b79206-2269-43c7-b505-3f14d01c210a input.sk-toggleable__control:checked~label.sk-toggleable__label-arrow:before {content: \"▾\";}#sk-c4b79206-2269-43c7-b505-3f14d01c210a div.sk-estimator input.sk-toggleable__control:checked~label.sk-toggleable__label {background-color: #d4ebff;}#sk-c4b79206-2269-43c7-b505-3f14d01c210a div.sk-label input.sk-toggleable__control:checked~label.sk-toggleable__label {background-color: #d4ebff;}#sk-c4b79206-2269-43c7-b505-3f14d01c210a input.sk-hidden--visually {border: 0;clip: rect(1px 1px 1px 1px);clip: rect(1px, 1px, 1px, 1px);height: 1px;margin: -1px;overflow: hidden;padding: 0;position: absolute;width: 1px;}#sk-c4b79206-2269-43c7-b505-3f14d01c210a div.sk-estimator {font-family: monospace;background-color: #f0f8ff;border: 1px dotted black;border-radius: 0.25em;box-sizing: border-box;margin-bottom: 0.5em;}#sk-c4b79206-2269-43c7-b505-3f14d01c210a div.sk-estimator:hover {background-color: #d4ebff;}#sk-c4b79206-2269-43c7-b505-3f14d01c210a div.sk-parallel-item::after {content: \"\";width: 100%;border-bottom: 1px solid gray;flex-grow: 1;}#sk-c4b79206-2269-43c7-b505-3f14d01c210a div.sk-label:hover label.sk-toggleable__label {background-color: #d4ebff;}#sk-c4b79206-2269-43c7-b505-3f14d01c210a div.sk-serial::before {content: \"\";position: absolute;border-left: 1px solid gray;box-sizing: border-box;top: 2em;bottom: 0;left: 50%;}#sk-c4b79206-2269-43c7-b505-3f14d01c210a div.sk-serial {display: flex;flex-direction: column;align-items: center;background-color: white;padding-right: 0.2em;padding-left: 0.2em;}#sk-c4b79206-2269-43c7-b505-3f14d01c210a div.sk-item {z-index: 1;}#sk-c4b79206-2269-43c7-b505-3f14d01c210a div.sk-parallel {display: flex;align-items: stretch;justify-content: center;background-color: white;}#sk-c4b79206-2269-43c7-b505-3f14d01c210a div.sk-parallel::before {content: \"\";position: absolute;border-left: 1px solid gray;box-sizing: border-box;top: 2em;bottom: 0;left: 50%;}#sk-c4b79206-2269-43c7-b505-3f14d01c210a div.sk-parallel-item {display: flex;flex-direction: column;position: relative;background-color: white;}#sk-c4b79206-2269-43c7-b505-3f14d01c210a div.sk-parallel-item:first-child::after {align-self: flex-end;width: 50%;}#sk-c4b79206-2269-43c7-b505-3f14d01c210a div.sk-parallel-item:last-child::after {align-self: flex-start;width: 50%;}#sk-c4b79206-2269-43c7-b505-3f14d01c210a div.sk-parallel-item:only-child::after {width: 0;}#sk-c4b79206-2269-43c7-b505-3f14d01c210a div.sk-dashed-wrapped {border: 1px dashed gray;margin: 0 0.4em 0.5em 0.4em;box-sizing: border-box;padding-bottom: 0.4em;background-color: white;position: relative;}#sk-c4b79206-2269-43c7-b505-3f14d01c210a div.sk-label label {font-family: monospace;font-weight: bold;background-color: white;display: inline-block;line-height: 1.2em;}#sk-c4b79206-2269-43c7-b505-3f14d01c210a div.sk-label-container {position: relative;z-index: 2;text-align: center;}#sk-c4b79206-2269-43c7-b505-3f14d01c210a div.sk-container {/* jupyter's `normalize.less` sets `[hidden] { display: none; }` but bootstrap.min.css set `[hidden] { display: none !important; }` so we also need the `!important` here to be able to override the default hidden behavior on the sphinx rendered scikit-learn.org. See: https://github.com/scikit-learn/scikit-learn/issues/21755 */display: inline-block !important;position: relative;}#sk-c4b79206-2269-43c7-b505-3f14d01c210a div.sk-text-repr-fallback {display: none;}</style><div id=\"sk-c4b79206-2269-43c7-b505-3f14d01c210a\" class=\"sk-top-container\"><div class=\"sk-text-repr-fallback\"><pre>ColumnTransformer(remainder=&#x27;passthrough&#x27;,\n",
       "                  transformers=[(&#x27;num_transf&#x27;,\n",
       "                                 Pipeline(steps=[(&#x27;scaler&#x27;, StandardScaler())]),\n",
       "                                 [&#x27;rainfall&#x27;, &#x27;weekday&#x27;])])</pre><b>Please rerun this cell to show the HTML repr or trust the notebook.</b></div><div class=\"sk-container\" hidden><div class=\"sk-item sk-dashed-wrapped\"><div class=\"sk-label-container\"><div class=\"sk-label sk-toggleable\"><input class=\"sk-toggleable__control sk-hidden--visually\" id=\"3f502252-19c7-4fe0-866a-a57ddecda309\" type=\"checkbox\" ><label for=\"3f502252-19c7-4fe0-866a-a57ddecda309\" class=\"sk-toggleable__label sk-toggleable__label-arrow\">ColumnTransformer</label><div class=\"sk-toggleable__content\"><pre>ColumnTransformer(remainder=&#x27;passthrough&#x27;,\n",
       "                  transformers=[(&#x27;num_transf&#x27;,\n",
       "                                 Pipeline(steps=[(&#x27;scaler&#x27;, StandardScaler())]),\n",
       "                                 [&#x27;rainfall&#x27;, &#x27;weekday&#x27;])])</pre></div></div></div><div class=\"sk-parallel\"><div class=\"sk-parallel-item\"><div class=\"sk-item\"><div class=\"sk-label-container\"><div class=\"sk-label sk-toggleable\"><input class=\"sk-toggleable__control sk-hidden--visually\" id=\"bfeb91fc-eeab-46ab-b218-1047eb6a199a\" type=\"checkbox\" ><label for=\"bfeb91fc-eeab-46ab-b218-1047eb6a199a\" class=\"sk-toggleable__label sk-toggleable__label-arrow\">num_transf</label><div class=\"sk-toggleable__content\"><pre>[&#x27;rainfall&#x27;, &#x27;weekday&#x27;]</pre></div></div></div><div class=\"sk-serial\"><div class=\"sk-item\"><div class=\"sk-serial\"><div class=\"sk-item\"><div class=\"sk-estimator sk-toggleable\"><input class=\"sk-toggleable__control sk-hidden--visually\" id=\"c1e931d5-a2ba-4b6d-b703-bfe669060d74\" type=\"checkbox\" ><label for=\"c1e931d5-a2ba-4b6d-b703-bfe669060d74\" class=\"sk-toggleable__label sk-toggleable__label-arrow\">StandardScaler</label><div class=\"sk-toggleable__content\"><pre>StandardScaler()</pre></div></div></div></div></div></div></div></div><div class=\"sk-parallel-item\"><div class=\"sk-item\"><div class=\"sk-label-container\"><div class=\"sk-label sk-toggleable\"><input class=\"sk-toggleable__control sk-hidden--visually\" id=\"27a43507-62e1-4592-b791-4fffc7b78f50\" type=\"checkbox\" ><label for=\"27a43507-62e1-4592-b791-4fffc7b78f50\" class=\"sk-toggleable__label sk-toggleable__label-arrow\">remainder</label><div class=\"sk-toggleable__content\"><pre></pre></div></div></div><div class=\"sk-serial\"><div class=\"sk-item\"><div class=\"sk-estimator sk-toggleable\"><input class=\"sk-toggleable__control sk-hidden--visually\" id=\"72cfb250-e734-467d-a2a2-f3f7ce7769ed\" type=\"checkbox\" ><label for=\"72cfb250-e734-467d-a2a2-f3f7ce7769ed\" class=\"sk-toggleable__label sk-toggleable__label-arrow\">passthrough</label><div class=\"sk-toggleable__content\"><pre>passthrough</pre></div></div></div></div></div></div></div></div></div></div>"
      ],
      "text/plain": [
       "ColumnTransformer(remainder='passthrough',\n",
       "                  transformers=[('num_transf',\n",
       "                                 Pipeline(steps=[('scaler', StandardScaler())]),\n",
       "                                 ['rainfall', 'weekday'])])"
      ]
     },
     "execution_count": 18,
     "metadata": {},
     "output_type": "execute_result"
    }
   ],
   "source": [
    "from sklearn.pipeline import Pipeline\n",
    "from sklearn.preprocessing import StandardScaler\n",
    "from sklearn.compose import ColumnTransformer\n",
    "from sklearn import set_config\n",
    "\n",
    "set_config(display='diagram')\n",
    "\n",
    "\n",
    "num_transformer = Pipeline([\n",
    "    ('scaler',StandardScaler())\n",
    "])\n",
    "\n",
    "preprocessor = ColumnTransformer([\n",
    "    ('num_transf', num_transformer, ['rainfall','weekday'])],\n",
    "    remainder = 'passthrough'\n",
    ")\n",
    "\n",
    "preprocessor"
   ]
  },
  {
   "cell_type": "code",
   "execution_count": 29,
   "id": "3d88bb8c",
   "metadata": {
    "ExecuteTime": {
     "end_time": "2022-01-17T15:05:01.710607Z",
     "start_time": "2022-01-17T15:05:00.963266Z"
    }
   },
   "outputs": [
    {
     "data": {
      "text/plain": [
       "0.9345536808200255"
      ]
     },
     "execution_count": 29,
     "metadata": {},
     "output_type": "execute_result"
    }
   ],
   "source": [
    "from sklearn.linear_model import Ridge\n",
    "from sklearn.ensemble import RandomForestRegressor\n",
    "\n",
    "pipe = Pipeline([\n",
    "    ('preprocessing',preprocessor), ('ML',RandomForestRegressor())\n",
    "])\n",
    "\n",
    "pipe.fit(X,y)\n",
    "pipe.score(X,y)"
   ]
  },
  {
   "cell_type": "markdown",
   "id": "900235ea",
   "metadata": {
    "ExecuteTime": {
     "end_time": "2022-01-17T14:57:33.553049Z",
     "start_time": "2022-01-17T14:57:33.494154Z"
    }
   },
   "source": [
    "## Preprocessing full pipeline"
   ]
  },
  {
   "cell_type": "code",
   "execution_count": 76,
   "id": "d827904f",
   "metadata": {
    "ExecuteTime": {
     "end_time": "2022-01-18T05:49:33.102173Z",
     "start_time": "2022-01-18T05:49:33.066539Z"
    }
   },
   "outputs": [
    {
     "data": {
      "text/html": [
       "<style>#sk-962557a4-002f-46d7-ac54-d61ad7a2d5d5 {color: black;background-color: white;}#sk-962557a4-002f-46d7-ac54-d61ad7a2d5d5 pre{padding: 0;}#sk-962557a4-002f-46d7-ac54-d61ad7a2d5d5 div.sk-toggleable {background-color: white;}#sk-962557a4-002f-46d7-ac54-d61ad7a2d5d5 label.sk-toggleable__label {cursor: pointer;display: block;width: 100%;margin-bottom: 0;padding: 0.3em;box-sizing: border-box;text-align: center;}#sk-962557a4-002f-46d7-ac54-d61ad7a2d5d5 label.sk-toggleable__label-arrow:before {content: \"▸\";float: left;margin-right: 0.25em;color: #696969;}#sk-962557a4-002f-46d7-ac54-d61ad7a2d5d5 label.sk-toggleable__label-arrow:hover:before {color: black;}#sk-962557a4-002f-46d7-ac54-d61ad7a2d5d5 div.sk-estimator:hover label.sk-toggleable__label-arrow:before {color: black;}#sk-962557a4-002f-46d7-ac54-d61ad7a2d5d5 div.sk-toggleable__content {max-height: 0;max-width: 0;overflow: hidden;text-align: left;background-color: #f0f8ff;}#sk-962557a4-002f-46d7-ac54-d61ad7a2d5d5 div.sk-toggleable__content pre {margin: 0.2em;color: black;border-radius: 0.25em;background-color: #f0f8ff;}#sk-962557a4-002f-46d7-ac54-d61ad7a2d5d5 input.sk-toggleable__control:checked~div.sk-toggleable__content {max-height: 200px;max-width: 100%;overflow: auto;}#sk-962557a4-002f-46d7-ac54-d61ad7a2d5d5 input.sk-toggleable__control:checked~label.sk-toggleable__label-arrow:before {content: \"▾\";}#sk-962557a4-002f-46d7-ac54-d61ad7a2d5d5 div.sk-estimator input.sk-toggleable__control:checked~label.sk-toggleable__label {background-color: #d4ebff;}#sk-962557a4-002f-46d7-ac54-d61ad7a2d5d5 div.sk-label input.sk-toggleable__control:checked~label.sk-toggleable__label {background-color: #d4ebff;}#sk-962557a4-002f-46d7-ac54-d61ad7a2d5d5 input.sk-hidden--visually {border: 0;clip: rect(1px 1px 1px 1px);clip: rect(1px, 1px, 1px, 1px);height: 1px;margin: -1px;overflow: hidden;padding: 0;position: absolute;width: 1px;}#sk-962557a4-002f-46d7-ac54-d61ad7a2d5d5 div.sk-estimator {font-family: monospace;background-color: #f0f8ff;border: 1px dotted black;border-radius: 0.25em;box-sizing: border-box;margin-bottom: 0.5em;}#sk-962557a4-002f-46d7-ac54-d61ad7a2d5d5 div.sk-estimator:hover {background-color: #d4ebff;}#sk-962557a4-002f-46d7-ac54-d61ad7a2d5d5 div.sk-parallel-item::after {content: \"\";width: 100%;border-bottom: 1px solid gray;flex-grow: 1;}#sk-962557a4-002f-46d7-ac54-d61ad7a2d5d5 div.sk-label:hover label.sk-toggleable__label {background-color: #d4ebff;}#sk-962557a4-002f-46d7-ac54-d61ad7a2d5d5 div.sk-serial::before {content: \"\";position: absolute;border-left: 1px solid gray;box-sizing: border-box;top: 2em;bottom: 0;left: 50%;}#sk-962557a4-002f-46d7-ac54-d61ad7a2d5d5 div.sk-serial {display: flex;flex-direction: column;align-items: center;background-color: white;padding-right: 0.2em;padding-left: 0.2em;}#sk-962557a4-002f-46d7-ac54-d61ad7a2d5d5 div.sk-item {z-index: 1;}#sk-962557a4-002f-46d7-ac54-d61ad7a2d5d5 div.sk-parallel {display: flex;align-items: stretch;justify-content: center;background-color: white;}#sk-962557a4-002f-46d7-ac54-d61ad7a2d5d5 div.sk-parallel::before {content: \"\";position: absolute;border-left: 1px solid gray;box-sizing: border-box;top: 2em;bottom: 0;left: 50%;}#sk-962557a4-002f-46d7-ac54-d61ad7a2d5d5 div.sk-parallel-item {display: flex;flex-direction: column;position: relative;background-color: white;}#sk-962557a4-002f-46d7-ac54-d61ad7a2d5d5 div.sk-parallel-item:first-child::after {align-self: flex-end;width: 50%;}#sk-962557a4-002f-46d7-ac54-d61ad7a2d5d5 div.sk-parallel-item:last-child::after {align-self: flex-start;width: 50%;}#sk-962557a4-002f-46d7-ac54-d61ad7a2d5d5 div.sk-parallel-item:only-child::after {width: 0;}#sk-962557a4-002f-46d7-ac54-d61ad7a2d5d5 div.sk-dashed-wrapped {border: 1px dashed gray;margin: 0 0.4em 0.5em 0.4em;box-sizing: border-box;padding-bottom: 0.4em;background-color: white;position: relative;}#sk-962557a4-002f-46d7-ac54-d61ad7a2d5d5 div.sk-label label {font-family: monospace;font-weight: bold;background-color: white;display: inline-block;line-height: 1.2em;}#sk-962557a4-002f-46d7-ac54-d61ad7a2d5d5 div.sk-label-container {position: relative;z-index: 2;text-align: center;}#sk-962557a4-002f-46d7-ac54-d61ad7a2d5d5 div.sk-container {/* jupyter's `normalize.less` sets `[hidden] { display: none; }` but bootstrap.min.css set `[hidden] { display: none !important; }` so we also need the `!important` here to be able to override the default hidden behavior on the sphinx rendered scikit-learn.org. See: https://github.com/scikit-learn/scikit-learn/issues/21755 */display: inline-block !important;position: relative;}#sk-962557a4-002f-46d7-ac54-d61ad7a2d5d5 div.sk-text-repr-fallback {display: none;}</style><div id=\"sk-962557a4-002f-46d7-ac54-d61ad7a2d5d5\" class=\"sk-top-container\"><div class=\"sk-text-repr-fallback\"><pre>FeatureUnion(transformer_list=[(&#x27;weekday&#x27;,\n",
       "                                FunctionTransformer(func=&lt;function &lt;lambda&gt; at 0x11ee30700&gt;)),\n",
       "                               (&#x27;weekend&#x27;,\n",
       "                                FunctionTransformer(func=&lt;function &lt;lambda&gt; at 0x1330b1670&gt;)),\n",
       "                               (&#x27;hour cosine&#x27;,\n",
       "                                FunctionTransformer(func=&lt;function &lt;lambda&gt; at 0x1330b1820&gt;)),\n",
       "                               (&#x27;hour sine&#x27;,\n",
       "                                FunctionTransformer(func=&lt;function &lt;lambda&gt; at 0x1330b18b0&gt;)),\n",
       "                               (&#x27;minute cosine&#x27;,\n",
       "                                FunctionTransformer(func=&lt;function &lt;lambda&gt; at 0x1330b14c0&gt;)),\n",
       "                               (&#x27;minute sine&#x27;,\n",
       "                                FunctionTransformer(func=&lt;function &lt;lambda&gt; at 0x1330b1550&gt;))])</pre><b>Please rerun this cell to show the HTML repr or trust the notebook.</b></div><div class=\"sk-container\" hidden><div class=\"sk-item sk-dashed-wrapped\"><div class=\"sk-label-container\"><div class=\"sk-label sk-toggleable\"><input class=\"sk-toggleable__control sk-hidden--visually\" id=\"a12f08cb-6f82-44c4-84c4-027cd488842a\" type=\"checkbox\" ><label for=\"a12f08cb-6f82-44c4-84c4-027cd488842a\" class=\"sk-toggleable__label sk-toggleable__label-arrow\">FeatureUnion</label><div class=\"sk-toggleable__content\"><pre>FeatureUnion(transformer_list=[(&#x27;weekday&#x27;,\n",
       "                                FunctionTransformer(func=&lt;function &lt;lambda&gt; at 0x11ee30700&gt;)),\n",
       "                               (&#x27;weekend&#x27;,\n",
       "                                FunctionTransformer(func=&lt;function &lt;lambda&gt; at 0x1330b1670&gt;)),\n",
       "                               (&#x27;hour cosine&#x27;,\n",
       "                                FunctionTransformer(func=&lt;function &lt;lambda&gt; at 0x1330b1820&gt;)),\n",
       "                               (&#x27;hour sine&#x27;,\n",
       "                                FunctionTransformer(func=&lt;function &lt;lambda&gt; at 0x1330b18b0&gt;)),\n",
       "                               (&#x27;minute cosine&#x27;,\n",
       "                                FunctionTransformer(func=&lt;function &lt;lambda&gt; at 0x1330b14c0&gt;)),\n",
       "                               (&#x27;minute sine&#x27;,\n",
       "                                FunctionTransformer(func=&lt;function &lt;lambda&gt; at 0x1330b1550&gt;))])</pre></div></div></div><div class=\"sk-parallel\"><div class=\"sk-parallel-item\"><div class=\"sk-item\"><div class=\"sk-label-container\"><div class=\"sk-label sk-toggleable\"><label>weekday</label></div></div><div class=\"sk-serial\"><div class=\"sk-item\"><div class=\"sk-estimator sk-toggleable\"><input class=\"sk-toggleable__control sk-hidden--visually\" id=\"6d15d361-bbd7-4f70-a422-f4a1d4d25665\" type=\"checkbox\" ><label for=\"6d15d361-bbd7-4f70-a422-f4a1d4d25665\" class=\"sk-toggleable__label sk-toggleable__label-arrow\">FunctionTransformer</label><div class=\"sk-toggleable__content\"><pre>FunctionTransformer(func=&lt;function &lt;lambda&gt; at 0x11ee30700&gt;)</pre></div></div></div></div></div></div><div class=\"sk-parallel-item\"><div class=\"sk-item\"><div class=\"sk-label-container\"><div class=\"sk-label sk-toggleable\"><label>weekend</label></div></div><div class=\"sk-serial\"><div class=\"sk-item\"><div class=\"sk-estimator sk-toggleable\"><input class=\"sk-toggleable__control sk-hidden--visually\" id=\"835d7512-7512-4aca-9ea0-4fc3112da4ab\" type=\"checkbox\" ><label for=\"835d7512-7512-4aca-9ea0-4fc3112da4ab\" class=\"sk-toggleable__label sk-toggleable__label-arrow\">FunctionTransformer</label><div class=\"sk-toggleable__content\"><pre>FunctionTransformer(func=&lt;function &lt;lambda&gt; at 0x1330b1670&gt;)</pre></div></div></div></div></div></div><div class=\"sk-parallel-item\"><div class=\"sk-item\"><div class=\"sk-label-container\"><div class=\"sk-label sk-toggleable\"><label>hour cosine</label></div></div><div class=\"sk-serial\"><div class=\"sk-item\"><div class=\"sk-estimator sk-toggleable\"><input class=\"sk-toggleable__control sk-hidden--visually\" id=\"8fd694a1-9c3f-4fc9-91fe-0fda66fab827\" type=\"checkbox\" ><label for=\"8fd694a1-9c3f-4fc9-91fe-0fda66fab827\" class=\"sk-toggleable__label sk-toggleable__label-arrow\">FunctionTransformer</label><div class=\"sk-toggleable__content\"><pre>FunctionTransformer(func=&lt;function &lt;lambda&gt; at 0x1330b1820&gt;)</pre></div></div></div></div></div></div><div class=\"sk-parallel-item\"><div class=\"sk-item\"><div class=\"sk-label-container\"><div class=\"sk-label sk-toggleable\"><label>hour sine</label></div></div><div class=\"sk-serial\"><div class=\"sk-item\"><div class=\"sk-estimator sk-toggleable\"><input class=\"sk-toggleable__control sk-hidden--visually\" id=\"f66f9112-d28b-408e-be4f-1ec469741863\" type=\"checkbox\" ><label for=\"f66f9112-d28b-408e-be4f-1ec469741863\" class=\"sk-toggleable__label sk-toggleable__label-arrow\">FunctionTransformer</label><div class=\"sk-toggleable__content\"><pre>FunctionTransformer(func=&lt;function &lt;lambda&gt; at 0x1330b18b0&gt;)</pre></div></div></div></div></div></div><div class=\"sk-parallel-item\"><div class=\"sk-item\"><div class=\"sk-label-container\"><div class=\"sk-label sk-toggleable\"><label>minute cosine</label></div></div><div class=\"sk-serial\"><div class=\"sk-item\"><div class=\"sk-estimator sk-toggleable\"><input class=\"sk-toggleable__control sk-hidden--visually\" id=\"23a40e90-0375-4f61-a52c-d17bd7f679ff\" type=\"checkbox\" ><label for=\"23a40e90-0375-4f61-a52c-d17bd7f679ff\" class=\"sk-toggleable__label sk-toggleable__label-arrow\">FunctionTransformer</label><div class=\"sk-toggleable__content\"><pre>FunctionTransformer(func=&lt;function &lt;lambda&gt; at 0x1330b14c0&gt;)</pre></div></div></div></div></div></div><div class=\"sk-parallel-item\"><div class=\"sk-item\"><div class=\"sk-label-container\"><div class=\"sk-label sk-toggleable\"><label>minute sine</label></div></div><div class=\"sk-serial\"><div class=\"sk-item\"><div class=\"sk-estimator sk-toggleable\"><input class=\"sk-toggleable__control sk-hidden--visually\" id=\"c1aa12fa-5022-4095-b886-316ca7bfa15e\" type=\"checkbox\" ><label for=\"c1aa12fa-5022-4095-b886-316ca7bfa15e\" class=\"sk-toggleable__label sk-toggleable__label-arrow\">FunctionTransformer</label><div class=\"sk-toggleable__content\"><pre>FunctionTransformer(func=&lt;function &lt;lambda&gt; at 0x1330b1550&gt;)</pre></div></div></div></div></div></div></div></div></div></div>"
      ],
      "text/plain": [
       "FeatureUnion(transformer_list=[('weekday',\n",
       "                                FunctionTransformer(func=<function <lambda> at 0x11ee30700>)),\n",
       "                               ('weekend',\n",
       "                                FunctionTransformer(func=<function <lambda> at 0x1330b1670>)),\n",
       "                               ('hour cosine',\n",
       "                                FunctionTransformer(func=<function <lambda> at 0x1330b1820>)),\n",
       "                               ('hour sine',\n",
       "                                FunctionTransformer(func=<function <lambda> at 0x1330b18b0>)),\n",
       "                               ('minute cosine',\n",
       "                                FunctionTransformer(func=<function <lambda> at 0x1330b14c0>)),\n",
       "                               ('minute sine',\n",
       "                                FunctionTransformer(func=<function <lambda> at 0x1330b1550>))])"
      ]
     },
     "execution_count": 76,
     "metadata": {},
     "output_type": "execute_result"
    }
   ],
   "source": [
    "from sklearn.pipeline import FeatureUnion\n",
    "from sklearn.preprocessing import FunctionTransformer\n",
    "\n",
    "## Create features based on date time\n",
    "weekday_constructor = FunctionTransformer(lambda df: pd.DataFrame(df['taxi_update_time'].\n",
    "                                                                  apply(lambda x: x.weekday())))\n",
    "weekend_constructor = FunctionTransformer(lambda df: pd.DataFrame(df['taxi_update_time'].\n",
    "                                                                  apply(lambda x: x.weekday()>4)))\n",
    "hour_cosine_constructor = FunctionTransformer(lambda df: pd.DataFrame(np.cos(df['taxi_update_time'].apply(lambda x: \n",
    "                                                                                  x.hour)*2 * np.pi / 23)))\n",
    "hour_sine_constructor = FunctionTransformer(lambda df: pd.DataFrame(np.sin(df['taxi_update_time'].apply(lambda x: \n",
    "                                                                                  x.hour)*2 * np.pi / 23)))\n",
    "minute_cosine_constructor = FunctionTransformer(lambda df: pd.DataFrame(np.cos(df['taxi_update_time'].apply(lambda x: \n",
    "                                                                                  x.minute)*2 * np.pi / 59)))\n",
    "minute_sine_constructor = FunctionTransformer(lambda df: pd.DataFrame(np.sin(df['taxi_update_time'].apply(lambda x: \n",
    "                                                                                  x.minute)*2 * np.pi / 59)))\n",
    "\n",
    "\n",
    "union_constructor = FeatureUnion([\n",
    "    ('weekday',weekday_constructor),\n",
    "    ('weekend',weekend_constructor),\n",
    "    ('hour cosine', hour_cosine_constructor),\n",
    "    ('hour sine', hour_sine_constructor),\n",
    "    ('minute cosine', minute_cosine_constructor),\n",
    "    ('minute sine', minute_sine_constructor),\n",
    "])\n",
    "\n",
    "union_constructor"
   ]
  },
  {
   "cell_type": "code",
   "execution_count": 79,
   "id": "e4ddb3f8",
   "metadata": {
    "ExecuteTime": {
     "end_time": "2022-01-18T05:58:41.203452Z",
     "start_time": "2022-01-18T05:58:40.920479Z"
    }
   },
   "outputs": [
    {
     "data": {
      "text/html": [
       "<style>#sk-8d8193d4-3259-4168-a606-4865bfca5d40 {color: black;background-color: white;}#sk-8d8193d4-3259-4168-a606-4865bfca5d40 pre{padding: 0;}#sk-8d8193d4-3259-4168-a606-4865bfca5d40 div.sk-toggleable {background-color: white;}#sk-8d8193d4-3259-4168-a606-4865bfca5d40 label.sk-toggleable__label {cursor: pointer;display: block;width: 100%;margin-bottom: 0;padding: 0.3em;box-sizing: border-box;text-align: center;}#sk-8d8193d4-3259-4168-a606-4865bfca5d40 label.sk-toggleable__label-arrow:before {content: \"▸\";float: left;margin-right: 0.25em;color: #696969;}#sk-8d8193d4-3259-4168-a606-4865bfca5d40 label.sk-toggleable__label-arrow:hover:before {color: black;}#sk-8d8193d4-3259-4168-a606-4865bfca5d40 div.sk-estimator:hover label.sk-toggleable__label-arrow:before {color: black;}#sk-8d8193d4-3259-4168-a606-4865bfca5d40 div.sk-toggleable__content {max-height: 0;max-width: 0;overflow: hidden;text-align: left;background-color: #f0f8ff;}#sk-8d8193d4-3259-4168-a606-4865bfca5d40 div.sk-toggleable__content pre {margin: 0.2em;color: black;border-radius: 0.25em;background-color: #f0f8ff;}#sk-8d8193d4-3259-4168-a606-4865bfca5d40 input.sk-toggleable__control:checked~div.sk-toggleable__content {max-height: 200px;max-width: 100%;overflow: auto;}#sk-8d8193d4-3259-4168-a606-4865bfca5d40 input.sk-toggleable__control:checked~label.sk-toggleable__label-arrow:before {content: \"▾\";}#sk-8d8193d4-3259-4168-a606-4865bfca5d40 div.sk-estimator input.sk-toggleable__control:checked~label.sk-toggleable__label {background-color: #d4ebff;}#sk-8d8193d4-3259-4168-a606-4865bfca5d40 div.sk-label input.sk-toggleable__control:checked~label.sk-toggleable__label {background-color: #d4ebff;}#sk-8d8193d4-3259-4168-a606-4865bfca5d40 input.sk-hidden--visually {border: 0;clip: rect(1px 1px 1px 1px);clip: rect(1px, 1px, 1px, 1px);height: 1px;margin: -1px;overflow: hidden;padding: 0;position: absolute;width: 1px;}#sk-8d8193d4-3259-4168-a606-4865bfca5d40 div.sk-estimator {font-family: monospace;background-color: #f0f8ff;border: 1px dotted black;border-radius: 0.25em;box-sizing: border-box;margin-bottom: 0.5em;}#sk-8d8193d4-3259-4168-a606-4865bfca5d40 div.sk-estimator:hover {background-color: #d4ebff;}#sk-8d8193d4-3259-4168-a606-4865bfca5d40 div.sk-parallel-item::after {content: \"\";width: 100%;border-bottom: 1px solid gray;flex-grow: 1;}#sk-8d8193d4-3259-4168-a606-4865bfca5d40 div.sk-label:hover label.sk-toggleable__label {background-color: #d4ebff;}#sk-8d8193d4-3259-4168-a606-4865bfca5d40 div.sk-serial::before {content: \"\";position: absolute;border-left: 1px solid gray;box-sizing: border-box;top: 2em;bottom: 0;left: 50%;}#sk-8d8193d4-3259-4168-a606-4865bfca5d40 div.sk-serial {display: flex;flex-direction: column;align-items: center;background-color: white;padding-right: 0.2em;padding-left: 0.2em;}#sk-8d8193d4-3259-4168-a606-4865bfca5d40 div.sk-item {z-index: 1;}#sk-8d8193d4-3259-4168-a606-4865bfca5d40 div.sk-parallel {display: flex;align-items: stretch;justify-content: center;background-color: white;}#sk-8d8193d4-3259-4168-a606-4865bfca5d40 div.sk-parallel::before {content: \"\";position: absolute;border-left: 1px solid gray;box-sizing: border-box;top: 2em;bottom: 0;left: 50%;}#sk-8d8193d4-3259-4168-a606-4865bfca5d40 div.sk-parallel-item {display: flex;flex-direction: column;position: relative;background-color: white;}#sk-8d8193d4-3259-4168-a606-4865bfca5d40 div.sk-parallel-item:first-child::after {align-self: flex-end;width: 50%;}#sk-8d8193d4-3259-4168-a606-4865bfca5d40 div.sk-parallel-item:last-child::after {align-self: flex-start;width: 50%;}#sk-8d8193d4-3259-4168-a606-4865bfca5d40 div.sk-parallel-item:only-child::after {width: 0;}#sk-8d8193d4-3259-4168-a606-4865bfca5d40 div.sk-dashed-wrapped {border: 1px dashed gray;margin: 0 0.4em 0.5em 0.4em;box-sizing: border-box;padding-bottom: 0.4em;background-color: white;position: relative;}#sk-8d8193d4-3259-4168-a606-4865bfca5d40 div.sk-label label {font-family: monospace;font-weight: bold;background-color: white;display: inline-block;line-height: 1.2em;}#sk-8d8193d4-3259-4168-a606-4865bfca5d40 div.sk-label-container {position: relative;z-index: 2;text-align: center;}#sk-8d8193d4-3259-4168-a606-4865bfca5d40 div.sk-container {/* jupyter's `normalize.less` sets `[hidden] { display: none; }` but bootstrap.min.css set `[hidden] { display: none !important; }` so we also need the `!important` here to be able to override the default hidden behavior on the sphinx rendered scikit-learn.org. See: https://github.com/scikit-learn/scikit-learn/issues/21755 */display: inline-block !important;position: relative;}#sk-8d8193d4-3259-4168-a606-4865bfca5d40 div.sk-text-repr-fallback {display: none;}</style><div id=\"sk-8d8193d4-3259-4168-a606-4865bfca5d40\" class=\"sk-top-container\"><div class=\"sk-text-repr-fallback\"><pre>Pipeline(steps=[(&#x27;preproc data&#x27;,\n",
       "                 FeatureUnion(transformer_list=[(&#x27;rainfall scaled&#x27;,\n",
       "                                                 ColumnTransformer(transformers=[(&#x27;num_transf&#x27;,\n",
       "                                                                                  Pipeline(steps=[(&#x27;scaler&#x27;,\n",
       "                                                                                                   StandardScaler())]),\n",
       "                                                                                  [&#x27;rainfall&#x27;,\n",
       "                                                                                   &#x27;taxi_st_num&#x27;])])),\n",
       "                                                (&#x27;union new features&#x27;,\n",
       "                                                 FeatureUnion(transformer_list=[(&#x27;weekday&#x27;,\n",
       "                                                                                 FunctionTransformer(func=&lt;function &lt;lambda&gt; at 0x11ee30700&gt;)),\n",
       "                                                                                (&#x27;weekend&#x27;,\n",
       "                                                                                 FunctionTransfo...670&gt;)),\n",
       "                                                                                (&#x27;hour &#x27;\n",
       "                                                                                 &#x27;cosine&#x27;,\n",
       "                                                                                 FunctionTransformer(func=&lt;function &lt;lambda&gt; at 0x1330b1820&gt;)),\n",
       "                                                                                (&#x27;hour &#x27;\n",
       "                                                                                 &#x27;sine&#x27;,\n",
       "                                                                                 FunctionTransformer(func=&lt;function &lt;lambda&gt; at 0x1330b18b0&gt;)),\n",
       "                                                                                (&#x27;minute &#x27;\n",
       "                                                                                 &#x27;cosine&#x27;,\n",
       "                                                                                 FunctionTransformer(func=&lt;function &lt;lambda&gt; at 0x1330b14c0&gt;)),\n",
       "                                                                                (&#x27;minute &#x27;\n",
       "                                                                                 &#x27;sine&#x27;,\n",
       "                                                                                 FunctionTransformer(func=&lt;function &lt;lambda&gt; at 0x1330b1550&gt;))]))])),\n",
       "                (&#x27;ML model&#x27;, RandomForestRegressor())])</pre><b>Please rerun this cell to show the HTML repr or trust the notebook.</b></div><div class=\"sk-container\" hidden><div class=\"sk-item sk-dashed-wrapped\"><div class=\"sk-label-container\"><div class=\"sk-label sk-toggleable\"><input class=\"sk-toggleable__control sk-hidden--visually\" id=\"9c4ef605-a759-42d8-bf42-54d1d1bd2b5f\" type=\"checkbox\" ><label for=\"9c4ef605-a759-42d8-bf42-54d1d1bd2b5f\" class=\"sk-toggleable__label sk-toggleable__label-arrow\">Pipeline</label><div class=\"sk-toggleable__content\"><pre>Pipeline(steps=[(&#x27;preproc data&#x27;,\n",
       "                 FeatureUnion(transformer_list=[(&#x27;rainfall scaled&#x27;,\n",
       "                                                 ColumnTransformer(transformers=[(&#x27;num_transf&#x27;,\n",
       "                                                                                  Pipeline(steps=[(&#x27;scaler&#x27;,\n",
       "                                                                                                   StandardScaler())]),\n",
       "                                                                                  [&#x27;rainfall&#x27;,\n",
       "                                                                                   &#x27;taxi_st_num&#x27;])])),\n",
       "                                                (&#x27;union new features&#x27;,\n",
       "                                                 FeatureUnion(transformer_list=[(&#x27;weekday&#x27;,\n",
       "                                                                                 FunctionTransformer(func=&lt;function &lt;lambda&gt; at 0x11ee30700&gt;)),\n",
       "                                                                                (&#x27;weekend&#x27;,\n",
       "                                                                                 FunctionTransfo...670&gt;)),\n",
       "                                                                                (&#x27;hour &#x27;\n",
       "                                                                                 &#x27;cosine&#x27;,\n",
       "                                                                                 FunctionTransformer(func=&lt;function &lt;lambda&gt; at 0x1330b1820&gt;)),\n",
       "                                                                                (&#x27;hour &#x27;\n",
       "                                                                                 &#x27;sine&#x27;,\n",
       "                                                                                 FunctionTransformer(func=&lt;function &lt;lambda&gt; at 0x1330b18b0&gt;)),\n",
       "                                                                                (&#x27;minute &#x27;\n",
       "                                                                                 &#x27;cosine&#x27;,\n",
       "                                                                                 FunctionTransformer(func=&lt;function &lt;lambda&gt; at 0x1330b14c0&gt;)),\n",
       "                                                                                (&#x27;minute &#x27;\n",
       "                                                                                 &#x27;sine&#x27;,\n",
       "                                                                                 FunctionTransformer(func=&lt;function &lt;lambda&gt; at 0x1330b1550&gt;))]))])),\n",
       "                (&#x27;ML model&#x27;, RandomForestRegressor())])</pre></div></div></div><div class=\"sk-serial\"><div class=\"sk-item sk-dashed-wrapped\"><div class=\"sk-label-container\"><div class=\"sk-label sk-toggleable\"><input class=\"sk-toggleable__control sk-hidden--visually\" id=\"51515748-6864-4fe3-a8b8-c7bd90d7b4f5\" type=\"checkbox\" ><label for=\"51515748-6864-4fe3-a8b8-c7bd90d7b4f5\" class=\"sk-toggleable__label sk-toggleable__label-arrow\">preproc data: FeatureUnion</label><div class=\"sk-toggleable__content\"><pre>FeatureUnion(transformer_list=[(&#x27;rainfall scaled&#x27;,\n",
       "                                ColumnTransformer(transformers=[(&#x27;num_transf&#x27;,\n",
       "                                                                 Pipeline(steps=[(&#x27;scaler&#x27;,\n",
       "                                                                                  StandardScaler())]),\n",
       "                                                                 [&#x27;rainfall&#x27;,\n",
       "                                                                  &#x27;taxi_st_num&#x27;])])),\n",
       "                               (&#x27;union new features&#x27;,\n",
       "                                FeatureUnion(transformer_list=[(&#x27;weekday&#x27;,\n",
       "                                                                FunctionTransformer(func=&lt;function &lt;lambda&gt; at 0x11ee30700&gt;)),\n",
       "                                                               (&#x27;weekend&#x27;,\n",
       "                                                                FunctionTransformer(func=&lt;function &lt;lambda&gt; at 0x1330b1670&gt;)),\n",
       "                                                               (&#x27;hour cosine&#x27;,\n",
       "                                                                FunctionTransformer(func=&lt;function &lt;lambda&gt; at 0x1330b1820&gt;)),\n",
       "                                                               (&#x27;hour sine&#x27;,\n",
       "                                                                FunctionTransformer(func=&lt;function &lt;lambda&gt; at 0x1330b18b0&gt;)),\n",
       "                                                               (&#x27;minute cosine&#x27;,\n",
       "                                                                FunctionTransformer(func=&lt;function &lt;lambda&gt; at 0x1330b14c0&gt;)),\n",
       "                                                               (&#x27;minute sine&#x27;,\n",
       "                                                                FunctionTransformer(func=&lt;function &lt;lambda&gt; at 0x1330b1550&gt;))]))])</pre></div></div></div><div class=\"sk-parallel\"><div class=\"sk-parallel-item\"><div class=\"sk-item\"><div class=\"sk-label-container\"><div class=\"sk-label sk-toggleable\"><label>rainfall scaled</label></div></div><div class=\"sk-serial\"><div class=\"sk-item sk-dashed-wrapped\"><div class=\"sk-parallel\"><div class=\"sk-parallel-item\"><div class=\"sk-item\"><div class=\"sk-label-container\"><div class=\"sk-label sk-toggleable\"><input class=\"sk-toggleable__control sk-hidden--visually\" id=\"7b2c8aac-b85d-4323-aedb-e2d829e3c8ed\" type=\"checkbox\" ><label for=\"7b2c8aac-b85d-4323-aedb-e2d829e3c8ed\" class=\"sk-toggleable__label sk-toggleable__label-arrow\">num_transf</label><div class=\"sk-toggleable__content\"><pre>[&#x27;rainfall&#x27;, &#x27;taxi_st_num&#x27;]</pre></div></div></div><div class=\"sk-serial\"><div class=\"sk-item\"><div class=\"sk-serial\"><div class=\"sk-item\"><div class=\"sk-estimator sk-toggleable\"><input class=\"sk-toggleable__control sk-hidden--visually\" id=\"299eb901-6ab1-4006-af5d-4d6e0e2b70b9\" type=\"checkbox\" ><label for=\"299eb901-6ab1-4006-af5d-4d6e0e2b70b9\" class=\"sk-toggleable__label sk-toggleable__label-arrow\">StandardScaler</label><div class=\"sk-toggleable__content\"><pre>StandardScaler()</pre></div></div></div></div></div></div></div></div></div></div></div></div></div><div class=\"sk-parallel-item\"><div class=\"sk-item\"><div class=\"sk-label-container\"><div class=\"sk-label sk-toggleable\"><label>union new features</label></div></div><div class=\"sk-serial\"><div class=\"sk-item sk-dashed-wrapped\"><div class=\"sk-parallel\"><div class=\"sk-parallel-item\"><div class=\"sk-item\"><div class=\"sk-label-container\"><div class=\"sk-label sk-toggleable\"><label>weekday</label></div></div><div class=\"sk-serial\"><div class=\"sk-item\"><div class=\"sk-estimator sk-toggleable\"><input class=\"sk-toggleable__control sk-hidden--visually\" id=\"91f3b847-59e8-48f2-8846-5141597628a7\" type=\"checkbox\" ><label for=\"91f3b847-59e8-48f2-8846-5141597628a7\" class=\"sk-toggleable__label sk-toggleable__label-arrow\">FunctionTransformer</label><div class=\"sk-toggleable__content\"><pre>FunctionTransformer(func=&lt;function &lt;lambda&gt; at 0x11ee30700&gt;)</pre></div></div></div></div></div></div><div class=\"sk-parallel-item\"><div class=\"sk-item\"><div class=\"sk-label-container\"><div class=\"sk-label sk-toggleable\"><label>weekend</label></div></div><div class=\"sk-serial\"><div class=\"sk-item\"><div class=\"sk-estimator sk-toggleable\"><input class=\"sk-toggleable__control sk-hidden--visually\" id=\"5ca04543-4702-45e4-a99d-c06813413152\" type=\"checkbox\" ><label for=\"5ca04543-4702-45e4-a99d-c06813413152\" class=\"sk-toggleable__label sk-toggleable__label-arrow\">FunctionTransformer</label><div class=\"sk-toggleable__content\"><pre>FunctionTransformer(func=&lt;function &lt;lambda&gt; at 0x1330b1670&gt;)</pre></div></div></div></div></div></div><div class=\"sk-parallel-item\"><div class=\"sk-item\"><div class=\"sk-label-container\"><div class=\"sk-label sk-toggleable\"><label>hour cosine</label></div></div><div class=\"sk-serial\"><div class=\"sk-item\"><div class=\"sk-estimator sk-toggleable\"><input class=\"sk-toggleable__control sk-hidden--visually\" id=\"0732a7b3-f9ed-463d-95a8-e0abe16a4845\" type=\"checkbox\" ><label for=\"0732a7b3-f9ed-463d-95a8-e0abe16a4845\" class=\"sk-toggleable__label sk-toggleable__label-arrow\">FunctionTransformer</label><div class=\"sk-toggleable__content\"><pre>FunctionTransformer(func=&lt;function &lt;lambda&gt; at 0x1330b1820&gt;)</pre></div></div></div></div></div></div><div class=\"sk-parallel-item\"><div class=\"sk-item\"><div class=\"sk-label-container\"><div class=\"sk-label sk-toggleable\"><label>hour sine</label></div></div><div class=\"sk-serial\"><div class=\"sk-item\"><div class=\"sk-estimator sk-toggleable\"><input class=\"sk-toggleable__control sk-hidden--visually\" id=\"8740ca02-6281-43d6-b2bc-68b48768ea64\" type=\"checkbox\" ><label for=\"8740ca02-6281-43d6-b2bc-68b48768ea64\" class=\"sk-toggleable__label sk-toggleable__label-arrow\">FunctionTransformer</label><div class=\"sk-toggleable__content\"><pre>FunctionTransformer(func=&lt;function &lt;lambda&gt; at 0x1330b18b0&gt;)</pre></div></div></div></div></div></div><div class=\"sk-parallel-item\"><div class=\"sk-item\"><div class=\"sk-label-container\"><div class=\"sk-label sk-toggleable\"><label>minute cosine</label></div></div><div class=\"sk-serial\"><div class=\"sk-item\"><div class=\"sk-estimator sk-toggleable\"><input class=\"sk-toggleable__control sk-hidden--visually\" id=\"120092f5-33b1-429b-be1f-df9ec7618309\" type=\"checkbox\" ><label for=\"120092f5-33b1-429b-be1f-df9ec7618309\" class=\"sk-toggleable__label sk-toggleable__label-arrow\">FunctionTransformer</label><div class=\"sk-toggleable__content\"><pre>FunctionTransformer(func=&lt;function &lt;lambda&gt; at 0x1330b14c0&gt;)</pre></div></div></div></div></div></div><div class=\"sk-parallel-item\"><div class=\"sk-item\"><div class=\"sk-label-container\"><div class=\"sk-label sk-toggleable\"><label>minute sine</label></div></div><div class=\"sk-serial\"><div class=\"sk-item\"><div class=\"sk-estimator sk-toggleable\"><input class=\"sk-toggleable__control sk-hidden--visually\" id=\"e3f4422d-227f-4c7f-8768-da049e27c9f7\" type=\"checkbox\" ><label for=\"e3f4422d-227f-4c7f-8768-da049e27c9f7\" class=\"sk-toggleable__label sk-toggleable__label-arrow\">FunctionTransformer</label><div class=\"sk-toggleable__content\"><pre>FunctionTransformer(func=&lt;function &lt;lambda&gt; at 0x1330b1550&gt;)</pre></div></div></div></div></div></div></div></div></div></div></div></div></div><div class=\"sk-item\"><div class=\"sk-estimator sk-toggleable\"><input class=\"sk-toggleable__control sk-hidden--visually\" id=\"f70cc0e1-b28d-4e78-9575-c6a096cabfe3\" type=\"checkbox\" ><label for=\"f70cc0e1-b28d-4e78-9575-c6a096cabfe3\" class=\"sk-toggleable__label sk-toggleable__label-arrow\">RandomForestRegressor</label><div class=\"sk-toggleable__content\"><pre>RandomForestRegressor()</pre></div></div></div></div></div></div></div>"
      ],
      "text/plain": [
       "Pipeline(steps=[('preproc data',\n",
       "                 FeatureUnion(transformer_list=[('rainfall scaled',\n",
       "                                                 ColumnTransformer(transformers=[('num_transf',\n",
       "                                                                                  Pipeline(steps=[('scaler',\n",
       "                                                                                                   StandardScaler())]),\n",
       "                                                                                  ['rainfall',\n",
       "                                                                                   'taxi_st_num'])])),\n",
       "                                                ('union new features',\n",
       "                                                 FeatureUnion(transformer_list=[('weekday',\n",
       "                                                                                 FunctionTransformer(func=<function <lambda> at 0x11ee30700>)),\n",
       "                                                                                ('weekend',\n",
       "                                                                                 FunctionTransfo...670>)),\n",
       "                                                                                ('hour '\n",
       "                                                                                 'cosine',\n",
       "                                                                                 FunctionTransformer(func=<function <lambda> at 0x1330b1820>)),\n",
       "                                                                                ('hour '\n",
       "                                                                                 'sine',\n",
       "                                                                                 FunctionTransformer(func=<function <lambda> at 0x1330b18b0>)),\n",
       "                                                                                ('minute '\n",
       "                                                                                 'cosine',\n",
       "                                                                                 FunctionTransformer(func=<function <lambda> at 0x1330b14c0>)),\n",
       "                                                                                ('minute '\n",
       "                                                                                 'sine',\n",
       "                                                                                 FunctionTransformer(func=<function <lambda> at 0x1330b1550>))]))])),\n",
       "                ('ML model', RandomForestRegressor())])"
      ]
     },
     "execution_count": 79,
     "metadata": {},
     "output_type": "execute_result"
    }
   ],
   "source": [
    "\n",
    "\n",
    "num_transformer = Pipeline([\n",
    "    ('scaler',StandardScaler())\n",
    "])\n",
    "\n",
    "preprocessor = ColumnTransformer([\n",
    "    ('num_transf', num_transformer, ['rainfall','taxi_st_num'])\n",
    "], remainder ='drop')\n",
    "\n",
    "union_preproc_all = FeatureUnion([\n",
    "    ('rainfall scaled',preprocessor),\n",
    "    ('union new features', union_constructor)\n",
    "])\n",
    "\n",
    "pipe = Pipeline([\n",
    "    ('preproc data',union_preproc_all),\n",
    "#     ('preprocessor',preprocessor),\n",
    "    ('ML model', RandomForestRegressor())\n",
    "])\n",
    "\n",
    "pipe"
   ]
  },
  {
   "cell_type": "code",
   "execution_count": 83,
   "id": "b7e884b9",
   "metadata": {
    "ExecuteTime": {
     "end_time": "2022-01-18T09:08:56.421777Z",
     "start_time": "2022-01-18T09:08:55.698973Z"
    }
   },
   "outputs": [],
   "source": [
    "from sklearn.model_selection import train_test_split\n",
    "\n",
    "X = df.drop(columns=['taxi_count'])\n",
    "y = df['taxi_count']\n",
    "\n",
    "X_train, X_test, y_train, y_test = train_test_split(X,y, test_size=0.2, random_state=42)"
   ]
  },
  {
   "cell_type": "code",
   "execution_count": 85,
   "id": "963e13e6",
   "metadata": {
    "ExecuteTime": {
     "end_time": "2022-01-18T09:30:19.218312Z",
     "start_time": "2022-01-18T09:21:21.195548Z"
    }
   },
   "outputs": [
    {
     "data": {
      "text/plain": [
       "0.8125816767967724"
      ]
     },
     "execution_count": 85,
     "metadata": {},
     "output_type": "execute_result"
    }
   ],
   "source": [
    "pipe.fit(X_train,y_train)\n",
    "pipe.score(X_test,y_test)"
   ]
  },
  {
   "cell_type": "code",
   "execution_count": 110,
   "id": "32b70ad2",
   "metadata": {
    "ExecuteTime": {
     "end_time": "2022-01-18T09:52:17.852612Z",
     "start_time": "2022-01-18T09:51:29.999003Z"
    }
   },
   "outputs": [
    {
     "data": {
      "text/plain": [
       "array([1.07, 2.64, 0.99, ..., 2.06, 2.37, 6.16])"
      ]
     },
     "execution_count": 110,
     "metadata": {},
     "output_type": "execute_result"
    }
   ],
   "source": [
    "y_pred = pipe.predict(X_test)\n",
    "y_pred"
   ]
  },
  {
   "cell_type": "code",
   "execution_count": 133,
   "id": "646981a0",
   "metadata": {
    "ExecuteTime": {
     "end_time": "2022-01-18T10:11:35.498805Z",
     "start_time": "2022-01-18T10:11:35.407884Z"
    }
   },
   "outputs": [
    {
     "name": "stdout",
     "output_type": "stream",
     "text": [
      "accuracy is 0.6173101178437358 and mean absolute error is 0.5538879476979797\n"
     ]
    }
   ],
   "source": [
    "from sklearn.metrics import precision_score, accuracy_score, mean_absolute_error\n",
    "accuracy = accuracy_score(y_test.values,y_pred_rounded)\n",
    "mae = mean_absolute_error(y_test.values,y_pred_rounded)\n",
    "print(f'accuracy is {accuracy} and mean absolute error is {mae}')"
   ]
  },
  {
   "cell_type": "markdown",
   "id": "fb14f7ee",
   "metadata": {},
   "source": [
    "# API aspects\n"
   ]
  },
  {
   "cell_type": "markdown",
   "id": "5334130c",
   "metadata": {},
   "source": [
    "## Get Lat Long in Python\n",
    "\n",
    "This approach is later abandoned, because it returns the coordinates\n",
    "\n",
    "a) based on ISP, which might not coincide with physical location\n",
    "\n",
    "b) coordinates obtained are from where the code is running, in our case that'll be the location of the Heroku dyno, not the user."
   ]
  },
  {
   "cell_type": "code",
   "execution_count": null,
   "id": "cef6b097",
   "metadata": {
    "ExecuteTime": {
     "end_time": "2022-01-11T11:46:35.314874Z",
     "start_time": "2022-01-11T11:46:28.334131Z"
    }
   },
   "outputs": [],
   "source": [
    "import geocoder\n",
    "g = geocoder.ip('me')\n",
    "print(g.latlng)"
   ]
  },
  {
   "cell_type": "markdown",
   "id": "2c2d246c",
   "metadata": {},
   "source": [
    "### Use Requests to interact with TS Finder Cloud Function in GCP"
   ]
  },
  {
   "cell_type": "code",
   "execution_count": null,
   "id": "283b5224",
   "metadata": {
    "ExecuteTime": {
     "end_time": "2022-01-13T00:46:48.789928Z",
     "start_time": "2022-01-13T00:46:45.142891Z"
    }
   },
   "outputs": [],
   "source": [
    "import requests\n",
    "\n",
    "r = requests.post('https://us-central1-taxi-compass-lewagon.cloudfunctions.net/tsfinder', \n",
    "                  json={\"latitude\":1.281260 , \"longitude\":103.8443})"
   ]
  },
  {
   "cell_type": "code",
   "execution_count": null,
   "id": "40854420",
   "metadata": {
    "ExecuteTime": {
     "end_time": "2022-01-13T00:50:37.860261Z",
     "start_time": "2022-01-13T00:50:37.842418Z"
    }
   },
   "outputs": [],
   "source": [
    "tuple(r.text.split('-'))"
   ]
  },
  {
   "cell_type": "code",
   "execution_count": null,
   "id": "88e8bdfe",
   "metadata": {
    "ExecuteTime": {
     "end_time": "2022-01-15T06:45:22.522656Z",
     "start_time": "2022-01-15T06:45:22.463789Z"
    }
   },
   "outputs": [],
   "source": [
    "pd.DataFrame({\n",
    "        'first column': list([5,10,15])\n",
    "    })"
   ]
  },
  {
   "cell_type": "markdown",
   "id": "fbb35946",
   "metadata": {},
   "source": [
    "## Get random locations in Singapore"
   ]
  },
  {
   "cell_type": "code",
   "execution_count": 14,
   "id": "3872efa4",
   "metadata": {
    "ExecuteTime": {
     "end_time": "2022-01-24T07:02:52.416821Z",
     "start_time": "2022-01-24T07:02:52.407354Z"
    }
   },
   "outputs": [
    {
     "data": {
      "text/plain": [
       "(0.005148399978541329, -0.16101836548058657)"
      ]
     },
     "execution_count": 14,
     "metadata": {},
     "output_type": "execute_result"
    }
   ],
   "source": [
    "west=[1.3581294265537027, 103.73847248606556]\n",
    "east=[1.3529810265751614, 103.89949085154615]\n",
    "west[0]-east[0],west[1]-east[1]"
   ]
  },
  {
   "cell_type": "code",
   "execution_count": 15,
   "id": "4ea6575b",
   "metadata": {
    "ExecuteTime": {
     "end_time": "2022-01-24T07:03:30.028513Z",
     "start_time": "2022-01-24T07:03:30.000843Z"
    }
   },
   "outputs": [
    {
     "data": {
      "text/plain": [
       "(0.12836719044004785, -0.010299682226914797)"
      ]
     },
     "execution_count": 15,
     "metadata": {},
     "output_type": "execute_result"
    }
   ],
   "source": [
    "north =[1.4113289098694435, 103.81297352084016]\n",
    "south= [1.2829617194293956, 103.82327320306707]\n",
    "north[0]-south[0],north[1]-south[1]"
   ]
  },
  {
   "cell_type": "code",
   "execution_count": 18,
   "id": "494065e8",
   "metadata": {
    "ExecuteTime": {
     "end_time": "2022-01-24T07:06:36.279150Z",
     "start_time": "2022-01-24T07:06:36.266728Z"
    }
   },
   "outputs": [
    {
     "data": {
      "text/plain": [
       "[103.76072409349749, 1.372969066067637]"
      ]
     },
     "execution_count": 18,
     "metadata": {},
     "output_type": "execute_result"
    }
   ],
   "source": [
    "def random_location_in_sg():\n",
    "    lat = 103.74 + np.random.random()*0.15\n",
    "    lon = 1.285 + np.random.random()*0.12\n",
    "    return [lat,lon]\n",
    "\n",
    "random_location_in_sg()"
   ]
  },
  {
   "cell_type": "markdown",
   "id": "1c76cdef",
   "metadata": {},
   "source": [
    "## Trigger Prediction using Cloud Function API"
   ]
  },
  {
   "cell_type": "code",
   "execution_count": 34,
   "id": "4fe787e5",
   "metadata": {
    "ExecuteTime": {
     "end_time": "2022-01-24T08:45:46.965042Z",
     "start_time": "2022-01-24T08:45:46.267743Z"
    }
   },
   "outputs": [
    {
     "name": "stdout",
     "output_type": "stream",
     "text": [
      "\n",
      "<html><head>\n",
      "<meta http-equiv=\"content-type\" content=\"text/html;charset=utf-8\">\n",
      "<title>403 Forbidden</title>\n",
      "</head>\n",
      "<body text=#000000 bgcolor=#ffffff>\n",
      "<h1>Error: Forbidden</h1>\n",
      "<h2>Your client does not have permission to get URL <code>/insert_predicted_count</code> from this server.</h2>\n",
      "<h2></h2>\n",
      "</body></html>\n",
      "\n"
     ]
    }
   ],
   "source": [
    "r = requests.post(\n",
    "        'https://asia-southeast1-taxi-compass-lewagon.cloudfunctions.net/insert_predicted_count',\n",
    "        json={})\n",
    "print(r.text)"
   ]
  }
 ],
 "metadata": {
  "kernelspec": {
   "display_name": "Python 3 (ipykernel)",
   "language": "python",
   "name": "python3"
  },
  "language_info": {
   "codemirror_mode": {
    "name": "ipython",
    "version": 3
   },
   "file_extension": ".py",
   "mimetype": "text/x-python",
   "name": "python",
   "nbconvert_exporter": "python",
   "pygments_lexer": "ipython3",
   "version": "3.8.6"
  },
  "latex_envs": {
   "LaTeX_envs_menu_present": true,
   "autoclose": false,
   "autocomplete": true,
   "bibliofile": "biblio.bib",
   "cite_by": "apalike",
   "current_citInitial": 1,
   "eqLabelWithNumbers": true,
   "eqNumInitial": 1,
   "hotkeys": {
    "equation": "Ctrl-E",
    "itemize": "Ctrl-I"
   },
   "labels_anchors": false,
   "latex_user_defs": false,
   "report_style_numbering": false,
   "user_envs_cfg": false
  },
  "toc": {
   "base_numbering": 1,
   "nav_menu": {},
   "number_sections": true,
   "sideBar": true,
   "skip_h1_title": false,
   "title_cell": "Table of Contents",
   "title_sidebar": "Contents",
   "toc_cell": false,
   "toc_position": {
    "height": "calc(100% - 180px)",
    "left": "10px",
    "top": "150px",
    "width": "384px"
   },
   "toc_section_display": true,
   "toc_window_display": true
  }
 },
 "nbformat": 4,
 "nbformat_minor": 5
}
